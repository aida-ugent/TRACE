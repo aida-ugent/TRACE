{
 "cells": [
  {
   "cell_type": "code",
   "execution_count": null,
   "metadata": {},
   "outputs": [],
   "source": [
    "import numpy as np\n",
    "import anndata\n",
    "import pandas as pd\n",
    "import scanpy as sc\n",
    "import matplotlib.pyplot as plt\n",
    "import sys  \n",
    "import ast\n",
    "import loompy as lp # to install loompy and scikit-misc (pip)\n",
    "\n",
    "sys.path.insert(1, '../../backend/')\n",
    "import dataset"
   ]
  },
  {
   "cell_type": "code",
   "execution_count": null,
   "metadata": {},
   "outputs": [],
   "source": [
    "baseFolder='./'\n",
    "filename = 'r_fca_biohub_all_wo_blood_10x.loom'\n",
    "h5ad_filename = 'Fly_Atlas.h5ad'"
   ]
  },
  {
   "cell_type": "markdown",
   "metadata": {},
   "source": [
    "# Reading Loom File"
   ]
  },
  {
   "cell_type": "code",
   "execution_count": null,
   "metadata": {},
   "outputs": [],
   "source": [
    "loom = lp.connect(filename, mode='r', validate=False)\n",
    "\n",
    "ex_mtx = pd.DataFrame(loom[:, :], index=loom.ra.Gene, columns=loom.ca.CellID).T\n",
    "col_attrs = {k: v for k, v in loom.ca.items()}\n",
    "row_attrs = {k: v for k, v in loom.ra.items()}\n",
    "global_attrs = {k: v for k, v in loom.attrs.items()}\n",
    "global_attrs[\"MetaData\"] = global_attrs[\"MetaData\"]"
   ]
  },
  {
   "cell_type": "code",
   "execution_count": null,
   "metadata": {},
   "outputs": [],
   "source": [
    "list(global_attrs.keys())"
   ]
  },
  {
   "cell_type": "code",
   "execution_count": null,
   "metadata": {},
   "outputs": [],
   "source": [
    "list(col_attrs.keys())"
   ]
  },
  {
   "cell_type": "code",
   "execution_count": null,
   "metadata": {},
   "outputs": [],
   "source": [
    "global_attrs[\"MetaData\"] = ast.literal_eval(global_attrs[\"MetaData\"])"
   ]
  },
  {
   "cell_type": "code",
   "execution_count": null,
   "metadata": {},
   "outputs": [],
   "source": [
    "global_attrs[\"MetaData\"].keys()"
   ]
  },
  {
   "cell_type": "markdown",
   "metadata": {},
   "source": [
    "## Create Anndata Object"
   ]
  },
  {
   "cell_type": "code",
   "execution_count": null,
   "metadata": {},
   "outputs": [],
   "source": [
    "obs = pd.DataFrame.from_dict(col_attrs)\n",
    "obs = obs.set_index(\"CellID\")"
   ]
  },
  {
   "cell_type": "code",
   "execution_count": null,
   "metadata": {},
   "outputs": [],
   "source": [
    "obs_cols = ['S_annotation',\n",
    " 'S_annotation_broad',\n",
    " 'S_annotation_broad_extrapolated',\n",
    " 'age',\n",
    " 'annotation',\n",
    " 'annotation_broad',\n",
    " 'batch',\n",
    " 'dissection_lab',\n",
    " 'fly_genetics',\n",
    " 'leiden',\n",
    " 'n_counts',\n",
    " 'n_genes',\n",
    " 'note',\n",
    " 'percent_mito',\n",
    " 'scrublet__doublet_scores',\n",
    " 'scrublet__predicted_doublets',\n",
    " 'scrublet__predicted_doublets_based_on_10x_chromium_spec',\n",
    " 'sex',\n",
    " 'tissue']"
   ]
  },
  {
   "cell_type": "code",
   "execution_count": null,
   "metadata": {},
   "outputs": [],
   "source": [
    "obs = obs[obs_cols]"
   ]
  },
  {
   "cell_type": "code",
   "execution_count": null,
   "metadata": {},
   "outputs": [],
   "source": [
    "for col in obs.columns:\n",
    "    #print(f\"col {col} has {len(pd.unique(obs[col]))} values and type {obs[col].dtype}\")\n",
    "    if obs[col].dtype.str == 'object' and col != 'note':\n",
    "        obs[col] = pd.Categorical(obs[col])"
   ]
  },
  {
   "cell_type": "code",
   "execution_count": null,
   "metadata": {},
   "outputs": [],
   "source": [
    "adata = anndata.AnnData(np.asarray(ex_mtx))\n",
    "adata.obs_names = loom.ca.CellID\n",
    "adata.var_names = loom.ra.Gene\n",
    "\n",
    "for col in obs.columns:\n",
    "    adata.obs[col] = obs[col]"
   ]
  },
  {
   "cell_type": "code",
   "execution_count": null,
   "metadata": {},
   "outputs": [],
   "source": [
    "# https://github.com/vib-singlecell-nf/vsn-pipelines/blob/65056919560a4c82ff560c9499c199d138c8b6c7/src/scanpy/bin/feature_selection/sc_find_variable_genes.py#L29\n",
    "sc.pp.highly_variable_genes(\n",
    "    adata,\n",
    "    n_top_genes=2000,\n",
    "    flavor=\"seurat_v3\"\n",
    ")"
   ]
  },
  {
   "cell_type": "code",
   "execution_count": null,
   "metadata": {},
   "outputs": [],
   "source": [
    "adata.write_h5ad(\"Fly_Atlas_full.h5ad\", compression=\"gzip\")"
   ]
  },
  {
   "cell_type": "markdown",
   "metadata": {},
   "source": [
    "## PCA"
   ]
  },
  {
   "cell_type": "code",
   "execution_count": null,
   "metadata": {},
   "outputs": [],
   "source": [
    "pca_emb = sc.pp.pca(adata, n_comps=200, zero_center=True, use_highly_variable=True)"
   ]
  },
  {
   "cell_type": "code",
   "execution_count": null,
   "metadata": {},
   "outputs": [],
   "source": [
    "adata.uns['pca']['variance'].shape"
   ]
  },
  {
   "cell_type": "code",
   "execution_count": null,
   "metadata": {},
   "outputs": [],
   "source": [
    "plt.scatter(x=np.arange(200), y=np.cumsum(adata.uns['pca']['variance_ratio']))"
   ]
  },
  {
   "cell_type": "markdown",
   "metadata": {},
   "source": [
    "## Extracting Embeddings"
   ]
  },
  {
   "cell_type": "code",
   "execution_count": null,
   "metadata": {},
   "outputs": [],
   "source": [
    "trace_data = dataset.Dataset(\n",
    "    adata=adata[:, adata.var[\"highly_variable\"]].copy(),\n",
    "    name=\"Fly Atlas\",\n",
    "    hd_data_key=\"X_pca\",\n",
    "    verbose=True,\n",
    "    hd_metric=\"euclidean\",\n",
    ")"
   ]
  },
  {
   "cell_type": "code",
   "execution_count": null,
   "metadata": {},
   "outputs": [],
   "source": [
    "# from https://github.com/vib-singlecell-nf/vsn-pipelines/blob/master/src/scenic/bin/export_to_loom.py#L235\n",
    "def get_embedding_by_id(col_attrs, embedding_id):\n",
    "    if str(embedding_id) == '-1':\n",
    "        return np.asarray([[a[0], a[1]] for a in col_attrs['Embedding']], dtype=np.float32)\n",
    "    x = col_attrs['Embeddings_X'][str(embedding_id)]\n",
    "    y = col_attrs['Embeddings_Y'][str(embedding_id)]\n",
    "    return np.asarray([[a[0], a[1]] for a in np.column_stack((x,y))], dtype=np.float32) "
   ]
  },
  {
   "cell_type": "code",
   "execution_count": null,
   "metadata": {},
   "outputs": [],
   "source": [
    "for emb in global_attrs[\"MetaData\"][\"embeddings\"]:\n",
    "    id = emb['id']\n",
    "    name = emb['name']\n",
    "    name = name.replace(\"/\", \" \")\n",
    "    trace_data.add_embedding(embedding=get_embedding_by_id(col_attrs, id),\n",
    "                             name=name,\n",
    "                             category=\"Original\")\n"
   ]
  },
  {
   "cell_type": "code",
   "execution_count": null,
   "metadata": {},
   "outputs": [],
   "source": [
    "# reading an h5ad anndata object with '/' as key for obsm/var/obs throws an error\n",
    "trace_data.adata.obsm[\"HVG PCA\"] = trace_data.adata.obsm[\"HVG PC1/PC2\"]  \n",
    "del trace_data.adata.obsm[\"HVG PC1/PC2\"] \n",
    "\n",
    "trace_data.adata.uns[\"HVG PCA\"] = trace_data.adata.uns[\"HVG PC1/PC2\"]\n",
    "del trace_data.adata.uns[\"HVG PC1/PC2\"]\n",
    "\n",
    "trace_data.adata.uns['methods'] = {'Original': ['HVG t-SNE', 'HVG UMAP', 'HVG PCA']}"
   ]
  },
  {
   "cell_type": "code",
   "execution_count": null,
   "metadata": {},
   "outputs": [],
   "source": [
    "trace_data.compute_quality()\n",
    "trace_data.print_quality()"
   ]
  }
 ],
 "metadata": {
  "kernelspec": {
   "display_name": "Python 3",
   "language": "python",
   "name": "python3"
  },
  "language_info": {
   "codemirror_mode": {
    "name": "ipython",
    "version": 3
   },
   "file_extension": ".py",
   "mimetype": "text/x-python",
   "name": "python",
   "nbconvert_exporter": "python",
   "pygments_lexer": "ipython3",
   "version": "3.12.1"
  }
 },
 "nbformat": 4,
 "nbformat_minor": 2
}
