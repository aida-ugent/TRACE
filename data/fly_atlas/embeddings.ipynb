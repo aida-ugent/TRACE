{
 "cells": [
  {
   "cell_type": "code",
   "execution_count": null,
   "metadata": {},
   "outputs": [],
   "source": [
    "import numpy as np\n",
    "import anndata\n",
    "import pandas as pd\n",
    "import scanpy as sc\n",
    "import matplotlib.pyplot as plt\n",
    "import sys  \n",
    "import ast\n",
    "import math\n",
    "import time\n",
    "import loompy as lp # to install loompy and scikit-misc (pip)\n",
    "\n",
    "sys.path.insert(1, '../../backend/')\n",
    "import dataset\n",
    "from tsne import prolongate_embedding\n",
    "import openTSNE"
   ]
  },
  {
   "cell_type": "code",
   "execution_count": null,
   "metadata": {},
   "outputs": [],
   "source": [
    "adata = anndata.read_h5ad(\"./Fly_Atlas.h5ad\", 'r')"
   ]
  },
  {
   "cell_type": "code",
   "execution_count": null,
   "metadata": {},
   "outputs": [],
   "source": [
    "init=adata.obsm[\"X_pca\"][:, 0:2]\n",
    "sampling_frac=0.01\n",
    "exags=[10, 5, 4, 3, 2, 1]\n",
    "n_iter=500\n",
    "early_exag_iter=250\n",
    "smoothing_iter=250\n",
    "smoothing_perplexity=30\n",
    "random_state = 42\n",
    "hd_metric = \"euclidean\""
   ]
  },
  {
   "cell_type": "code",
   "execution_count": null,
   "metadata": {},
   "outputs": [],
   "source": [
    "data = np.asarray(adata.obsm[\"X_pca\"], dtype=np.float32)\n",
    "data_size = data.shape[0]\n",
    "sampling_size = math.ceil(data_size * sampling_frac)\n",
    "sample_ind = np.random.choice(data_size, size=sampling_size, replace=False)\n",
    "coarse_perp = math.ceil((data_size * sampling_frac) / 100)"
   ]
  },
  {
   "cell_type": "code",
   "execution_count": null,
   "metadata": {},
   "outputs": [],
   "source": [
    "landmark_knn_index = openTSNE.affinity.get_knn_index(\n",
    "    data[sample_ind, :], \"annoy\", int(3*coarse_perp), \"euclidean\", n_jobs=8, random_state=None, verbose=True\n",
    ")"
   ]
  },
  {
   "cell_type": "code",
   "execution_count": null,
   "metadata": {},
   "outputs": [],
   "source": [
    "print(f\"Computing affinities with perplexity {coarse_perp}...\")\n",
    "# computing coarse embedding\n",
    "start_aff = time.time()\n",
    "aff_coarse = openTSNE.affinity.PerplexityBasedNN(\n",
    "    perplexity=coarse_perp,\n",
    "    method=\"annoy\",\n",
    "    n_jobs=8,\n",
    "    random_state=random_state,\n",
    "    metric=hd_metric,\n",
    "    verbose=True,\n",
    "    knn_index=landmark_knn_index,\n",
    ")\n",
    "print(\"openTSNE: Coarse NN search\", time.time() - start_aff, flush=True)"
   ]
  },
  {
   "cell_type": "code",
   "execution_count": null,
   "metadata": {},
   "outputs": [],
   "source": [
    "# initialization\n",
    "if init is None:\n",
    "    print(f\"Computing PCA initialization...\")\n",
    "    init = openTSNE.initialization.pca(data[sample_ind, :])\n",
    "else:\n",
    "    init = openTSNE.initialization.rescale(init[sample_ind, :])\n",
    "\n",
    "coarse_embedding = openTSNE.TSNEEmbedding(\n",
    "    embedding=init,\n",
    "    affinities=aff_coarse,\n",
    "    n_jobs=8,\n",
    "    verbose=True,\n",
    "    random_state=random_state,\n",
    "    negative_gradient_method=\"fft\",\n",
    ")\n",
    "\n",
    "coarse_embedding.optimize(early_exag_iter, exaggeration=12, inplace=True)\n",
    "coarse_embedding.optimize(n_iter=n_iter, exaggeration=exags[0], inplace=True)\n",
    "print(\"openTSNE: Coarse embedding total\", time.time() - start_aff, flush=True)"
   ]
  },
  {
   "cell_type": "code",
   "execution_count": null,
   "metadata": {},
   "outputs": [],
   "source": [
    "# now need affinities for whole dataset\n",
    "print(f\"Computing affinities for whole dataset with perplexity {smoothing_perplexity}...\")\n",
    "fine_knn_index = openTSNE.affinity.get_knn_index(\n",
    "    data, \"annoy\", int(3*smoothing_perplexity), \"euclidean\", n_jobs=8, random_state=random_state, verbose=True\n",
    ")\n",
    "aff_fine_start = time.time()\n",
    "aff_fine = openTSNE.affinity.PerplexityBasedNN(\n",
    "    perplexity=smoothing_perplexity,\n",
    "    n_jobs=8,\n",
    "    random_state=random_state,\n",
    "    metric=hd_metric,\n",
    "    method=\"annoy\",\n",
    "    knn_index = fine_knn_index,\n",
    ")\n",
    "print(\"openTSNE: Fine NN search\", time.time() - aff_fine_start, flush=True)"
   ]
  },
  {
   "cell_type": "code",
   "execution_count": null,
   "metadata": {},
   "outputs": [],
   "source": [
    "fine_init = prolongate_embedding(\n",
    "    data, coarse_embedding, sample_ind, aff_coarse.knn_index\n",
    ")\n",
    "# necessary to rescale the embeddding?\n",
    "fine_init = openTSNE.initialization.rescale(fine_init)\n",
    "smooth_embedding = openTSNE.TSNEEmbedding(\n",
    "    embedding=fine_init,\n",
    "    affinities=aff_fine,\n",
    "    n_jobs=8,\n",
    "    verbose=True,\n",
    "    random_state=random_state,\n",
    "    negative_gradient_method=\"fft\"\n",
    ")"
   ]
  },
  {
   "cell_type": "code",
   "execution_count": null,
   "metadata": {},
   "outputs": [],
   "source": [
    "trace_data = dataset.Dataset(\n",
    "    adata=adata,\n",
    "    name=\"Fly\",\n",
    "    hd_metric=\"euclidean\",\n",
    "    hd_data_key=\"X_pca\"\n",
    ")"
   ]
  },
  {
   "cell_type": "code",
   "execution_count": null,
   "metadata": {},
   "outputs": [],
   "source": [
    "for e in exags:\n",
    "    smooth_embedding.optimize(smoothing_iter, exaggeration=e, inplace=True)\n",
    "    fname = f\"./tsne_skrodzki_exag_{e}.txt\"\n",
    "    np.savetxt(fname, X=smooth_embedding, delimiter=\",\")\n",
    "    trace_data.add_embedding(\n",
    "        np.asarray(smooth_embedding),\n",
    "        name=f\"tSNE Skrodzki (exag {e})\",\n",
    "        category=\"PCA 200\",\n",
    "        meta_info={\"params\": {\"exaggeration\": e}}\n",
    "    )"
   ]
  },
  {
   "cell_type": "code",
   "execution_count": null,
   "metadata": {},
   "outputs": [],
   "source": [
    "trace_data.align_embeddings(reference_embedding=\"HVG PCA\")"
   ]
  },
  {
   "cell_type": "code",
   "execution_count": null,
   "metadata": {},
   "outputs": [],
   "source": [
    "trace_data.save_adata(filename=\"./fly_atlas_tsne.h5ad\")"
   ]
  }
 ],
 "metadata": {
  "kernelspec": {
   "display_name": "Python 3",
   "language": "python",
   "name": "python3"
  },
  "language_info": {
   "codemirror_mode": {
    "name": "ipython",
    "version": 3
   },
   "file_extension": ".py",
   "mimetype": "text/x-python",
   "name": "python",
   "nbconvert_exporter": "python",
   "pygments_lexer": "ipython3",
   "version": "3.12.1"
  }
 },
 "nbformat": 4,
 "nbformat_minor": 2
}
