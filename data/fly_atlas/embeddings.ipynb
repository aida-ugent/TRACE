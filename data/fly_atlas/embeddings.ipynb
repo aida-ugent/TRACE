{
 "cells": [
  {
   "cell_type": "code",
   "execution_count": null,
   "metadata": {},
   "outputs": [],
   "source": [
    "import numpy as np\n",
    "import anndata\n",
    "import sys  \n",
    "sys.path.insert(1, '../../backend/')\n",
    "from dataset import Dataset as TraceData\n",
    "from tsne import compute_tsne_series"
   ]
  },
  {
   "cell_type": "code",
   "execution_count": null,
   "metadata": {},
   "outputs": [],
   "source": [
    "adata = anndata.read_h5ad(\"./fly_atlas_tsne.h5ad\", 'r')"
   ]
  },
  {
   "cell_type": "code",
   "execution_count": null,
   "metadata": {},
   "outputs": [],
   "source": [
    "adata.uns['methods']"
   ]
  },
  {
   "cell_type": "code",
   "execution_count": null,
   "metadata": {},
   "outputs": [],
   "source": [
    "tsne_embeddings = compute_tsne_series(\n",
    "    data=np.asarray(adata.X),\n",
    "    init=adata.obsm[\"X_pca\"][:, 0:2],\n",
    "    sampling_frac=0.01,\n",
    "    coarse_exag_iter=[(12, 200), (10, 200)],\n",
    "    fine_exag_iter=[(10, 200), (5, 200), (3, 200), (1, 200)],\n",
    "    smoothing_perplexity=30,\n",
    "    random_state=42,\n",
    "    hd_metric=\"euclidean\",\n",
    "    negative_gradient_method=\"fft\",\n",
    "    fpath_prefix=\"fly_atlas\"\n",
    ")"
   ]
  },
  {
   "cell_type": "code",
   "execution_count": null,
   "metadata": {},
   "outputs": [],
   "source": [
    "from importlib import reload\n",
    "import dataset\n",
    "reload(dataset)\n",
    "from dataset import Dataset as TraceData"
   ]
  },
  {
   "cell_type": "code",
   "execution_count": null,
   "metadata": {},
   "outputs": [],
   "source": [
    "trace_data = TraceData(\n",
    "    adata=adata,\n",
    "    name=\"Fly\",\n",
    "    hd_metric=\"euclidean\",\n",
    "    hd_data_key=\"X_pca\",\n",
    "    verbose=True\n",
    ")"
   ]
  },
  {
   "cell_type": "code",
   "execution_count": null,
   "metadata": {},
   "outputs": [],
   "source": [
    "for exag, emb in tsne_embeddings.items():\n",
    "    trace_data.add_embedding(\n",
    "        emb,\n",
    "        name=f\"tSNE (exag {exag})\",\n",
    "        category=\"tSNE\",\n",
    "        meta_info={\"params\": {\"exaggeration\": exag, \"hd_data\": \"PCA 200\"}}\n",
    "    )"
   ]
  },
  {
   "cell_type": "code",
   "execution_count": null,
   "metadata": {},
   "outputs": [],
   "source": [
    "trace_data.compute_neighborhood_preservation(\n",
    "    neighborhood_sizes=[200, 100, 50]\n",
    ")\n",
    "trace_data.compute_global_distance_correlation(\n",
    "    max_landmarks=1000, LD_landmark_neighbors=True\n",
    ")"
   ]
  },
  {
   "cell_type": "code",
   "execution_count": null,
   "metadata": {},
   "outputs": [],
   "source": [
    "trace_data.print_quality()\n",
    "trace_data.align_embeddings(reference_embedding=\"HVG PCA\")\n",
    "trace_data.save_adata(filename=\"./fly_atlas_tsne.h5ad\")"
   ]
  }
 ],
 "metadata": {
  "kernelspec": {
   "display_name": "Python 3",
   "language": "python",
   "name": "python3"
  },
  "language_info": {
   "codemirror_mode": {
    "name": "ipython",
    "version": 3
   },
   "file_extension": ".py",
   "mimetype": "text/x-python",
   "name": "python",
   "nbconvert_exporter": "python",
   "pygments_lexer": "ipython3",
   "version": "3.12.1"
  }
 },
 "nbformat": 4,
 "nbformat_minor": 2
}
