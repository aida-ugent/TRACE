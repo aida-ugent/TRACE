{
 "cells": [
  {
   "cell_type": "code",
   "execution_count": null,
   "metadata": {},
   "outputs": [],
   "source": [
    "import numpy as np\n",
    "import anndata\n",
    "import scanpy as sc\n",
    "import matplotlib.pyplot as plt\n",
    "import sys  \n",
    "import json\n",
    "sys.path.insert(1, '../../backend/')\n",
    "from tsne import compute_tsne_series\n",
    "from utils import normalizeEmbedding"
   ]
  },
  {
   "cell_type": "code",
   "execution_count": null,
   "metadata": {},
   "outputs": [],
   "source": [
    "### Load adata\n",
    "baseFolder='./'\n",
    "adata = anndata.read_h5ad(baseFolder+'/CD45_PCA_init_quality_20231218_154832.h5ad')"
   ]
  },
  {
   "cell_type": "code",
   "execution_count": null,
   "metadata": {},
   "outputs": [],
   "source": [
    "adata"
   ]
  },
  {
   "cell_type": "markdown",
   "metadata": {},
   "source": [
    "# Restructure"
   ]
  },
  {
   "cell_type": "code",
   "execution_count": null,
   "metadata": {},
   "outputs": [],
   "source": [
    "new_methods = {}\n",
    "\n",
    "for method, num in adata.uns[\"methods\"].items():\n",
    "    for i in range(num):\n",
    "        emb_key = f\"{method}_{i}\"\n",
    "        \n",
    "        if num > 1:\n",
    "            adata.uns[emb_key] = {\"quality\": adata.uns[emb_key]}\n",
    "            new_methods[method] = new_methods.get(method, []) + [emb_key]\n",
    "        else:\n",
    "            adata.obsm[method] = adata.obsm[emb_key]\n",
    "            adata.uns[method] = {\"quality\" : adata.uns[emb_key]}\n",
    "            del adata.uns[emb_key]\n",
    "            del adata.obsm[emb_key]\n",
    "            \n",
    "            new_methods[method] = [method]\n",
    "adata.uns[\"methods\"] = new_methods"
   ]
  },
  {
   "cell_type": "code",
   "execution_count": null,
   "metadata": {},
   "outputs": [],
   "source": [
    "adata.uns[\"methods\"]\n",
    "\n",
    "# get the data type of the content of adata.uns[\"methods\"]\n",
    "type(adata.uns[\"methods\"][\"tSNE\"])"
   ]
  },
  {
   "cell_type": "code",
   "execution_count": null,
   "metadata": {},
   "outputs": [],
   "source": [
    "adata.write_h5ad(baseFolder+'/CD45_new.h5ad', compression='gzip')"
   ]
  }
 ],
 "metadata": {
  "kernelspec": {
   "display_name": "Python 3",
   "language": "python",
   "name": "python3"
  },
  "language_info": {
   "codemirror_mode": {
    "name": "ipython",
    "version": 3
   },
   "file_extension": ".py",
   "mimetype": "text/x-python",
   "name": "python",
   "nbconvert_exporter": "python",
   "pygments_lexer": "ipython3",
   "version": "3.11.5"
  }
 },
 "nbformat": 4,
 "nbformat_minor": 2
}
