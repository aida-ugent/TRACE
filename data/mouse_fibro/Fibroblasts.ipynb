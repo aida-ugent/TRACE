{
 "cells": [
  {
   "cell_type": "code",
   "execution_count": null,
   "metadata": {},
   "outputs": [],
   "source": [
    "import numpy as np\n",
    "import anndata\n",
    "import scanpy as sc\n",
    "import sys  \n",
    "sys.path.insert(1, '../../backend/')\n",
    "from tsne import compute_tsne_series\n",
    "import dataset"
   ]
  },
  {
   "cell_type": "code",
   "execution_count": null,
   "metadata": {},
   "outputs": [],
   "source": [
    "### Load adata\n",
    "import pickle\n",
    "baseFolder='./'\n",
    "data = pickle.load(open(baseFolder+\"post_adata_mouseFibroblasts.pkl\", \"rb\"))"
   ]
  },
  {
   "cell_type": "code",
   "execution_count": null,
   "metadata": {},
   "outputs": [],
   "source": [
    "adata = anndata.AnnData(data)\n",
    "adata"
   ]
  },
  {
   "cell_type": "code",
   "execution_count": null,
   "metadata": {},
   "outputs": [],
   "source": [
    "# these are the interesting metadata features\n",
    "# sampleID is the same as sampleName, sample are integers\n",
    "# annotID is the same as annot\n",
    "\n",
    "adata.obs[\"sampleName\"] = adata.obs[\"sampleName\"].astype(\"category\")\n",
    "adata.obs[\"louvain\"] = adata.obs[\"louvain\"].astype(\"category\")\n",
    "adata.obs[\"type\"] = adata.obs[\"type\"].astype(\"category\")\n",
    "adata.obs[\"annot\"] = adata.obs[\"annot\"].astype(\"category\")\n",
    "\n",
    "adata.obs = adata.obs.replace(\"Fibroblast 1\", \"CV Fibroblasts\")\n",
    "adata.obs = adata.obs.replace(\"Fibroblast 2\", \"Bile-duct Fibroblasts\")\n",
    "\n",
    "# clean up metadata\n",
    "del adata.obs[\"annotID\"]\n",
    "del adata.obs[\"sampleID\"]\n",
    "del adata.obs['sampleName']\n",
    "del adata.uns['annotID_colors']\n",
    "del adata.uns['umap']\n",
    "del adata.uns['neighbors']\n"
   ]
  },
  {
   "cell_type": "markdown",
   "metadata": {},
   "source": [
    "# Compute Embeddings"
   ]
  },
  {
   "cell_type": "code",
   "execution_count": null,
   "metadata": {},
   "outputs": [],
   "source": [
    "pca_emb = sc.pp.pca(adata.obsm[\"X_totalVI\"], n_comps=2, zero_center=True)"
   ]
  },
  {
   "cell_type": "code",
   "execution_count": null,
   "metadata": {},
   "outputs": [],
   "source": [
    "%%capture\n",
    "sc.pp.neighbors(adata, use_rep=\"X_totalVI\", n_neighbors=30, metric=\"correlation\")\n",
    "sc.tl.umap(adata, min_dist=0.2, init_pos=pca_emb, random_state=42)\n",
    "\n",
    "umap_emb = adata.obsm[\"X_umap\"]\n",
    "del adata.obsm[\"X_umap\"]"
   ]
  },
  {
   "cell_type": "code",
   "execution_count": null,
   "metadata": {},
   "outputs": [],
   "source": [
    "# center totalVI embeddings\n",
    "adata.obsm['X_totalVI'] = adata.obsm['X_totalVI'] - np.mean(adata.obsm['X_totalVI'], axis=1, keepdims=True)"
   ]
  },
  {
   "cell_type": "code",
   "execution_count": null,
   "metadata": {},
   "outputs": [],
   "source": [
    "tsne_embs = compute_tsne_series(\n",
    "    data=adata.obsm[\"X_totalVI\"],\n",
    "    sampling_frac=1,\n",
    "    fine_exag_iter=[(12, 200), (5, 200), (3, 200), (1, 200)],\n",
    "    # fpath_prefix=\"./mouseCD45neg\",\n",
    "    hd_metric=\"cosine\",\n",
    "    init=pca_emb,\n",
    ")"
   ]
  },
  {
   "cell_type": "markdown",
   "metadata": {},
   "source": [
    "# Precompute HD Neighbors and Quality Measures"
   ]
  },
  {
   "cell_type": "code",
   "execution_count": null,
   "metadata": {},
   "outputs": [],
   "source": [
    "# create dataset object for TRACE\n",
    "trace_data = dataset.Dataset(\n",
    "    name=\"Mouse Fibroblasts\", adata=adata, hd_data_key=\"X_totalVI\", verbose=True, hd_metric=\"cosine\"\n",
    ")"
   ]
  },
  {
   "cell_type": "code",
   "execution_count": null,
   "metadata": {},
   "outputs": [],
   "source": [
    "trace_data.add_embedding(\n",
    "    embedding = pca_emb,\n",
    "    name = \"PCA\",\n",
    "    category = \"PCA\",\n",
    ")\n",
    "trace_data.add_embedding(\n",
    "    embedding = umap_emb,\n",
    "    name = \"UMAP\",\n",
    "    category = \"UMAP\",\n",
    "    meta_info = {\"parameters\": {'min_dist': 0.2, 'init_pos': 'PCA', 'random_state': 42}}\n",
    ")\n",
    "\n",
    "for exag, embedding in tsne_embs.items():\n",
    "    trace_data.add_embedding(\n",
    "        embedding = embedding,\n",
    "        name = f\"tSNE_exag_{exag}\",\n",
    "        category = \"tSNE\",\n",
    "    )"
   ]
  },
  {
   "cell_type": "code",
   "execution_count": null,
   "metadata": {},
   "outputs": [],
   "source": [
    "trace_data.compute_quality(filename=\"./Fibroblasts.h5ad\")\n",
    "trace_data.print_quality()"
   ]
  }
 ],
 "metadata": {
  "kernelspec": {
   "display_name": "Python 3",
   "language": "python",
   "name": "python3"
  },
  "language_info": {
   "codemirror_mode": {
    "name": "ipython",
    "version": 3
   },
   "file_extension": ".py",
   "mimetype": "text/x-python",
   "name": "python",
   "nbconvert_exporter": "python",
   "pygments_lexer": "ipython3",
   "version": "3.11.5"
  }
 },
 "nbformat": 4,
 "nbformat_minor": 2
}
