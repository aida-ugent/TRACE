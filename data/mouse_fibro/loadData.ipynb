{
 "cells": [
  {
   "cell_type": "code",
   "execution_count": null,
   "id": "0d804214",
   "metadata": {},
   "outputs": [],
   "source": [
    "import sys\n",
    "import matplotlib\n",
    "matplotlib.rcParams[\"pdf.fonttype\"] = 42\n",
    "matplotlib.rcParams[\"ps.fonttype\"] = 42\n",
    "import matplotlib.pyplot as plt\n",
    "from matplotlib.colors import LinearSegmentedColormap\n",
    "import seaborn as sns\n",
    "# from datetime import datetime\n",
    "\n",
    "import numpy as np\n",
    "# import numpy.random as random\n",
    "import pandas as pd\n",
    "import scanpy as sc\n",
    "import os\n",
    "import anndata as ad\n",
    "import sklearn\n",
    "# import louvain\n",
    "# import torch\n",
    "\n",
    "# from scvi.dataset import Dataset10X, CsvDataset, AnnDatasetFromAnnData, CellMeasurement, LoomDataset, DownloadableAnnDataset\n",
    "# from scvi.dataset.dataset import GeneExpressionDataset\n",
    "# from scvi.inference import TotalPosterior, TotalTrainer, load_posterior\n",
    "# from scvi.models import SCANVI, TOTALVI\n",
    "# from scvi import set_seed\n",
    "\n",
    "# from umap import UMAP\n",
    "\n",
    "# # Control UMAP numba warnings\n",
    "# import warnings; warnings.simplefilter('ignore')\n",
    "\n",
    "# %matplotlib inline\n",
    "\n",
    "# set_seed(123)\n",
    "\n",
    "# use_cuda = True\n",
    "# show_plot = True\n",
    "# test_mode = False"
   ]
  },
  {
   "cell_type": "code",
   "execution_count": null,
   "id": "cf2d3bd4",
   "metadata": {},
   "outputs": [],
   "source": [
    "def normalizeEmbedding(arr):   \n",
    "    # scaling to [-1, 1]\n",
    "    min = np.min(arr)\n",
    "    diff = np.max(arr) - min\n",
    "    arr[:, 0] = (2 * ((arr[:, 0] - min) / diff)) - 1\n",
    "    arr[:, 1] = (2 * ((arr[:, 1] - min) / diff)) - 1\n",
    "    return arr\n",
    "\n",
    "def scaling(arr):\n",
    "    # then scaling to [-1, 1]\n",
    "    min = np.min(arr)\n",
    "    diff = np.max(arr) - min\n",
    "    arr[:, 0] = (2 * ((arr[:, 0] - min) / diff)) - 1\n",
    "    arr[:, 1] = (2 * ((arr[:, 1] - min) / diff)) - 1\n",
    "    return arr\n",
    "\n",
    "def scaling_zero(arr):\n",
    "    min = np.min(arr)\n",
    "    diff = np.max(arr) - min\n",
    "    arr[:, 0] = ((arr[:, 0] - min) / diff)\n",
    "    arr[:, 1] = ((arr[:, 1] - min) / diff)\n",
    "    return arr"
   ]
  },
  {
   "cell_type": "markdown",
   "id": "da17d281",
   "metadata": {},
   "source": [
    "### Load umap CD45-"
   ]
  },
  {
   "cell_type": "code",
   "execution_count": null,
   "id": "9c0c0f82",
   "metadata": {},
   "outputs": [],
   "source": [
    "### Load adata\n",
    "import pickle\n",
    "baseFolder='./'\n",
    "adataCD45neg = pickle.load(open(baseFolder+\"post_adata_mouseCD45neg.pkl\", \"rb\"))"
   ]
  },
  {
   "cell_type": "code",
   "execution_count": null,
   "id": "e503f0ed",
   "metadata": {},
   "outputs": [],
   "source": [
    "np.var(adataCD45neg.layers[\"norm_genes\"], axis=0)"
   ]
  },
  {
   "cell_type": "code",
   "execution_count": null,
   "id": "a3731a8d",
   "metadata": {},
   "outputs": [],
   "source": [
    "### Latent space extracted from TotalVI model\n",
    "# adataCD45neg.obsm[\"X_totalVI\"]\n",
    "\n",
    "### This latent space was used to calculate the UMAP:\n",
    "## sc.pp.neighbors(adataCD45neg, use_rep=\"X_totalVI\", n_neighbors=30, metric=\"correlation\")\n",
    "## sc.tl.umap(adataCD45neg, min_dist=0.2)"
   ]
  },
  {
   "cell_type": "code",
   "execution_count": null,
   "id": "ce842404",
   "metadata": {},
   "outputs": [],
   "source": [
    "# these are the interesting metadata features\n",
    "# sampleID is the same as sampleName, sample are integers\n",
    "adataCD45neg.obs['sampleName'] = adataCD45neg.obs['sampleName'].astype('category')\n",
    "adataCD45neg.obs['louvain'] = adataCD45neg.obs['louvain'].astype('category')\n",
    "adataCD45neg.obs['type'] = adataCD45neg.obs['type'].astype('category')\n",
    "# annotID is the same as annot\n",
    "adataCD45neg.obs['annot'] = adataCD45neg.obs['annot'].astype('category')"
   ]
  },
  {
   "cell_type": "code",
   "execution_count": null,
   "id": "cfc79b3c",
   "metadata": {},
   "outputs": [],
   "source": [
    "sc.pp.pca(adataCD45neg, n_comps=50, zero_center=True)"
   ]
  },
  {
   "cell_type": "code",
   "execution_count": null,
   "id": "94e43701",
   "metadata": {},
   "outputs": [],
   "source": [
    "adataCD45neg.obsm[\"PCA_0\"] = normalizeEmbedding(adataCD45neg.obsm[\"X_pca\"][:, 0:2])\n",
    "adataCD45neg.obsm[\"UMAP_0\"] = normalizeEmbedding(adataCD45neg.obsm[\"X_umap\"])\n",
    "adataCD45neg.uns[\"methods\"] = {\n",
    "    \"UMAP\": 1,\n",
    "    \"PCA\": 1,\n",
    "}\n",
    "adataCD45neg.uns[\"UMAP_0\"] = {}\n",
    "adataCD45neg.uns[\"PCA_0\"] = {}"
   ]
  },
  {
   "cell_type": "code",
   "execution_count": null,
   "id": "cbe42f42",
   "metadata": {},
   "outputs": [],
   "source": [
    "delete_obs = [ob for ob in adataCD45neg.obs_keys() if \"adt\" in ob]\n",
    "for delob in delete_obs:\n",
    "    del adataCD45neg.obs[delob]"
   ]
  },
  {
   "cell_type": "code",
   "execution_count": null,
   "id": "6c44e682",
   "metadata": {},
   "outputs": [],
   "source": [
    "# cleanup adata\n",
    "del adataCD45neg.obsm['X_umap']\n",
    "del adataCD45neg.uns['pca']"
   ]
  },
  {
   "cell_type": "code",
   "execution_count": null,
   "id": "a051b862",
   "metadata": {},
   "outputs": [],
   "source": [
    "# center the data to compute 'correlation' distance in all DR\n",
    "adataCD45neg.obsm['X_totalVI'] = adataCD45neg.obsm['X_totalVI'] - np.mean(adataCD45neg.obsm['X_totalVI'], axis=1, keepdims=True)"
   ]
  },
  {
   "cell_type": "code",
   "execution_count": null,
   "id": "a79c6fac",
   "metadata": {},
   "outputs": [],
   "source": [
    "adataCD45neg.uns['methods']['tSNE_skrodzki'] = 5\n",
    "\n",
    "for i in range(5):\n",
    "    with open(os.path.join(baseFolder, 'embeddings', f'tsne_skrodzki_{i}.csv')) as f:\n",
    "        adataCD45neg.uns[f'tSNE_skrodzki_{i}'] = {}\n",
    "        embedding = np.loadtxt(f, delimiter=\",\")\n",
    "        embedding_arr = np.asarray([embedding[:, 0], embedding[:, 1]], dtype=np.float32).T\n",
    "        adataCD45neg.obsm[f\"tSNE_skrodzki_{i}\"] = normalizeEmbedding(embedding_arr)"
   ]
  },
  {
   "cell_type": "code",
   "execution_count": null,
   "id": "a27f1bbf",
   "metadata": {},
   "outputs": [],
   "source": [
    "adataCD45neg"
   ]
  },
  {
   "cell_type": "code",
   "execution_count": null,
   "id": "46c47111",
   "metadata": {},
   "outputs": [],
   "source": [
    "adataCD45neg.write_h5ad('mouseCD45neg_embeddings.h5ad', compression='gzip')"
   ]
  },
  {
   "cell_type": "code",
   "execution_count": null,
   "id": "0a37f41e",
   "metadata": {},
   "outputs": [],
   "source": [
    "### Plot umap\n",
    "tmp=sc.pl.umap(\n",
    "    adataCD45neg, \n",
    "    color=[\"louvain\",\"annot\"],\n",
    "    alpha=0.9,\n",
    "    legend_loc=\"on data\",\n",
    "#     legend_loc=\"right margin\",\n",
    "    return_fig=True\n",
    ")"
   ]
  },
  {
   "cell_type": "code",
   "execution_count": null,
   "id": "0fa79b3f",
   "metadata": {},
   "outputs": [],
   "source": [
    "### Plot umap\n",
    "tmp=sc.pl.umap(\n",
    "    adataCD45neg, \n",
    "    color=[\"type\",\"sampleName\"],\n",
    "    alpha=0.9,\n",
    "    legend_loc=\"right margin\",\n",
    "    return_fig=True\n",
    ")"
   ]
  },
  {
   "cell_type": "code",
   "execution_count": null,
   "id": "b3f8163e",
   "metadata": {},
   "outputs": [],
   "source": [
    "sc.pl.embedding(adataCD45neg, basis='UMAP_0', color='annot')"
   ]
  },
  {
   "cell_type": "code",
   "execution_count": null,
   "id": "8590afc9",
   "metadata": {},
   "outputs": [],
   "source": [
    "filepath = 'mouseCD45neg_embeddings_neighbors_quality.h5ad'\n",
    "baseFolder='./'\n",
    "adataCD45neg = ad.read_h5ad(os.path.join(baseFolder, filepath))"
   ]
  },
  {
   "cell_type": "code",
   "execution_count": null,
   "id": "35409361",
   "metadata": {},
   "outputs": [],
   "source": [
    "adataCD45neg.obsm[\"PCA_norm_genes_0\"] = normalizeEmbedding(sc.tl.pca(adataCD45neg.layers[\"norm_genes\"]))\n",
    "adataCD45neg.uns[\"methods\"]['PCA_norm_genes'] = 1\n",
    "adataCD45neg.uns[\"PCA_norm_genes_0\"] = {}"
   ]
  },
  {
   "cell_type": "code",
   "execution_count": null,
   "id": "9eb8aa5f",
   "metadata": {},
   "outputs": [],
   "source": [
    "adataCD45neg.write_h5ad('mouseCD45neg_embeddings_neighbors_quality.h5ad', compression='gzip')"
   ]
  },
  {
   "cell_type": "markdown",
   "id": "a8192ec8",
   "metadata": {},
   "source": [
    "### Load umap fibroblasts"
   ]
  },
  {
   "cell_type": "code",
   "execution_count": null,
   "id": "b473d107",
   "metadata": {},
   "outputs": [],
   "source": [
    "### Load adata\n",
    "import pickle\n",
    "baseFolder='./'\n",
    "adataFibro = pickle.load(open(baseFolder+\"post_adata_mouseFibroblasts.pkl\", \"rb\"))\n",
    "adataFibro.n_obs # 5430 cells but when filtering the whole dataset, we get 5431 cells?"
   ]
  },
  {
   "cell_type": "code",
   "execution_count": null,
   "id": "4a6837a3",
   "metadata": {},
   "outputs": [],
   "source": [
    "# which cell is missing?\n",
    "\n",
    "fibro_subset = np.nonzero((adataCD45neg.obs['annot'] == 'Stellate cells') | \n",
    "               (adataCD45neg.obs['annot'] == 'Capsular Fibroblasts') |\n",
    "               (adataCD45neg.obs['annot'] == 'Mesothelial cells') |\n",
    "               (adataCD45neg.obs['annot'] == 'Fibroblasts'))[0]\n",
    "\n",
    "for cell in fibro_subset:\n",
    "    if len(np.nonzero(adataCD45neg.obs['cell'][cell] == adataFibro.obs['cell'])[0]) == 0:\n",
    "        print(f\"{cell} is not in adataFibro\")\n",
    "        \n",
    "adataCD45neg.obs.iloc[55424]\n",
    "# 55424 is not in adataFibro (the only cell of sample CS141)"
   ]
  },
  {
   "cell_type": "code",
   "execution_count": null,
   "id": "40efc5b1",
   "metadata": {},
   "outputs": [],
   "source": [
    "# indices of adataFibro in the adataCD45neg data\n",
    "adataCD45neg_fibro_indices = []\n",
    "\n",
    "for cell in adataFibro.obs['cell']:\n",
    "    adataCD45neg_fibro_indices.append(np.nonzero(adataCD45neg.obs['cell'] == cell)[0][0])"
   ]
  },
  {
   "cell_type": "code",
   "execution_count": null,
   "id": "1faf114d",
   "metadata": {},
   "outputs": [],
   "source": [
    "adataFibro.obsm[\"UMAP_global_0\"] = normalizeEmbedding(adataCD45neg.obsm['UMAP_0'][adataCD45neg_fibro_indices, :])"
   ]
  },
  {
   "cell_type": "code",
   "execution_count": null,
   "id": "800c6559",
   "metadata": {},
   "outputs": [],
   "source": [
    "# center the data to compute 'correlation' distance in all DR\n",
    "np.unique(adataFibro.obsm['X_totalVI'].mean(axis=1))\n",
    "adataFibro.obsm['X_totalVI'] = adataFibro.obsm['X_totalVI'] - np.mean(adataFibro.obsm['X_totalVI'], axis=1, keepdims=True)"
   ]
  },
  {
   "cell_type": "code",
   "execution_count": null,
   "id": "d168e36e",
   "metadata": {},
   "outputs": [],
   "source": [
    "sc.pp.pca(adataFibro, n_comps=2, zero_center=True)\n",
    "adataFibro.obsm[\"PCA_norm_genes_0\"] = sc.tl.pca(adataFibro.layers[\"norm_genes\"])"
   ]
  },
  {
   "cell_type": "code",
   "execution_count": null,
   "id": "493e2118",
   "metadata": {},
   "outputs": [],
   "source": [
    "adataFibro.obsm[\"PCA_0\"] = normalizeEmbedding(adataFibro.obsm[\"X_pca\"][:, 0:2])\n",
    "adataFibro.obsm[\"UMAP_0\"] = normalizeEmbedding(adataFibro.obsm[\"X_umap\"])\n",
    "del adataFibro.obsm[\"X_pca\"]"
   ]
  },
  {
   "cell_type": "code",
   "execution_count": null,
   "id": "f840274d",
   "metadata": {},
   "outputs": [],
   "source": [
    "# also store coordinates from UMAP of whole dataset\n",
    "adataFibro.uns[\"methods\"] = {\n",
    "    \"UMAP\": 1,\n",
    "    \"UMAP_global\": 1,\n",
    "    \"PCA\": 1,\n",
    "    \"PCA_norm_genes\": 1,\n",
    "}\n",
    "adataFibro.uns[\"UMAP_0\"] = {}\n",
    "adataFibro.uns[\"UMAP_global_0\"] = {}\n",
    "adataFibro.uns[\"PCA_0\"] = {}\n",
    "adataFibro.uns[\"PCA_norm_genes_0\"] = {}"
   ]
  },
  {
   "cell_type": "code",
   "execution_count": null,
   "id": "59939954",
   "metadata": {},
   "outputs": [],
   "source": [
    "### Latent space extracted from scVI model\n",
    "# adataFibro.obsm[\"X_totalVI\"]\n",
    "\n",
    "### This latent space was used to calculate the UMAP:\n",
    "## sc.pp.neighbors(adataFibro, use_rep=\"X_totalVI\", n_neighbors=30, metric=\"correlation\")\n",
    "## sc.tl.umap(adataFibro, min_dist=0.2)"
   ]
  },
  {
   "cell_type": "code",
   "execution_count": null,
   "id": "970317c7",
   "metadata": {},
   "outputs": [],
   "source": [
    "### Change the annotation a bit\n",
    "adataFibro.obs=adataFibro.obs.replace('Fibroblast 1','CV Fibroblasts')\n",
    "adataFibro.obs=adataFibro.obs.replace('Fibroblast 2','Bile-duct Fibroblasts')"
   ]
  },
  {
   "cell_type": "code",
   "execution_count": null,
   "id": "2893b9d9",
   "metadata": {},
   "outputs": [],
   "source": [
    "adataFibro.obs['sampleName'] = adataFibro.obs['sampleName'].astype('category')\n",
    "adataFibro.obs['louvain'] = adataFibro.obs['louvain'].astype('category')\n",
    "adataFibro.obs['type'] = adataFibro.obs['type'].astype('category')\n",
    "adataFibro.obs['annot'] = adataFibro.obs['annot'].astype('category')"
   ]
  },
  {
   "cell_type": "code",
   "execution_count": null,
   "id": "1e30a6a0",
   "metadata": {},
   "outputs": [],
   "source": [
    "adataFibro.obs['annot'].unique()"
   ]
  },
  {
   "cell_type": "code",
   "execution_count": null,
   "id": "b927fe43",
   "metadata": {},
   "outputs": [],
   "source": [
    "### Plot umap\n",
    "tmp=sc.pl.umap(\n",
    "    adataFibro, \n",
    "    color=[\"louvain\",\"annot\"],\n",
    "    alpha=0.9,\n",
    "    legend_loc=\"on data\",\n",
    "#     legend_loc=\"right margin\",\n",
    "    return_fig=True\n",
    ")"
   ]
  },
  {
   "cell_type": "code",
   "execution_count": null,
   "id": "8074c6a3",
   "metadata": {},
   "outputs": [],
   "source": [
    "sc.pl.embedding(adataFibro, basis='UMAP_global_0', color='annot')"
   ]
  },
  {
   "cell_type": "code",
   "execution_count": null,
   "id": "e6a2b1ac",
   "metadata": {},
   "outputs": [],
   "source": [
    "### Plot umap\n",
    "tmp=sc.pl.umap(\n",
    "    adataFibro, \n",
    "    color=[\"type\",\"sampleName\"],\n",
    "    alpha=0.9,\n",
    "    legend_loc=\"right margin\",\n",
    "    return_fig=True\n",
    ")"
   ]
  },
  {
   "cell_type": "code",
   "execution_count": null,
   "id": "205b0468",
   "metadata": {},
   "outputs": [],
   "source": [
    "adataFibro.write_h5ad('mouseFibro_embeddings.h5ad', compression='gzip')"
   ]
  },
  {
   "cell_type": "code",
   "execution_count": null,
   "id": "3826ceaf",
   "metadata": {},
   "outputs": [],
   "source": [
    "filepath = 'mouseFibro_embeddings.h5ad'\n",
    "baseFolder='./'\n",
    "adataFibro = ad.read_h5ad(os.path.join(baseFolder, filepath))"
   ]
  },
  {
   "cell_type": "code",
   "execution_count": null,
   "id": "02e13d0a",
   "metadata": {},
   "outputs": [],
   "source": [
    "adataFibro.uns[\"methods\"] = {\n",
    "    \"UMAP\": 1,\n",
    "    \"UMAP_global\": 1,\n",
    "    \"PCA\": 1,\n",
    "}\n",
    "adataFibro.uns['methods']['tSNE_skrodzki'] = 5\n",
    "\n",
    "for i in range(5):\n",
    "    with open(os.path.join(baseFolder, 'embeddings', f'fibro_tsne_skrodzki_{i}.csv')) as f:\n",
    "        adataFibro.uns[f'tSNE_skrodzki_{i}'] = {}\n",
    "        embedding = np.loadtxt(f, delimiter=\",\")\n",
    "        embedding_arr = np.asarray([embedding[:, 0], embedding[:, 1]], dtype=np.float32).T\n",
    "        adataFibro.obsm[f\"tSNE_skrodzki_{i}\"] = normalizeEmbedding(embedding_arr)\n",
    "\n",
    "adataFibro.write_h5ad('mouseFibro_embeddings.h5ad', compression='gzip')"
   ]
  },
  {
   "cell_type": "code",
   "execution_count": null,
   "id": "2bec15b0",
   "metadata": {},
   "outputs": [],
   "source": [
    "filepath = 'mouseFibro_embeddings_neighbors_quality.h5ad'\n",
    "baseFolder='./'\n",
    "adataFibro = ad.read_h5ad(os.path.join(baseFolder, filepath))\n",
    "adataFibro"
   ]
  },
  {
   "cell_type": "code",
   "execution_count": null,
   "id": "d7dfc525",
   "metadata": {},
   "outputs": [],
   "source": [
    "adataFibro.obsm[\"PCA_norm_genes_0\"] = normalizeEmbedding(sc.tl.pca(adataFibro.layers[\"norm_genes\"]))\n",
    "adataFibro.uns[\"methods\"]['PCA_norm_genes'] = 1\n",
    "adataFibro.uns[\"PCA_norm_genes_0\"] = {}"
   ]
  },
  {
   "cell_type": "code",
   "execution_count": null,
   "id": "b131a919",
   "metadata": {},
   "outputs": [],
   "source": [
    "adataFibro.uns[\"UMAP_0\"]"
   ]
  },
  {
   "cell_type": "code",
   "execution_count": null,
   "id": "43b63471",
   "metadata": {},
   "outputs": [],
   "source": [
    "adataFibro.obsm[\"UMAP_0\"] = normalizeEmbedding(adataFibro.obsm[\"UMAP_0\"])\n",
    "adataFibro.obsm[\"UMAP_global_0\"] = normalizeEmbedding(adataFibro.obsm[\"UMAP_global_0\"])\n",
    "adataFibro.obsm[\"PCA_0\"] = normalizeEmbedding(adataFibro.obsm[\"PCA_0\"])"
   ]
  },
  {
   "cell_type": "code",
   "execution_count": null,
   "id": "ef84bee6",
   "metadata": {},
   "outputs": [],
   "source": [
    "adataFibro.write_h5ad('mouseFibro_embeddings_neighbors_quality.h5ad', compression='gzip')"
   ]
  },
  {
   "cell_type": "code",
   "execution_count": null,
   "id": "c39d8b52",
   "metadata": {},
   "outputs": [],
   "source": [
    "adataFibro.uns['UMAP_0'] = {}\n",
    "adataFibro.uns['UMAP_global_0'] = {}\n",
    "adataFibro.uns['PCA_0'] = {}"
   ]
  },
  {
   "cell_type": "code",
   "execution_count": null,
   "id": "52e1a948",
   "metadata": {},
   "outputs": [],
   "source": [
    "from sklearn.metrics import pairwise_distances\n",
    "\n",
    "def get_cluster_medians(cluster_labels, embedding_name):\n",
    "    medians = []\n",
    "    for cluster in list(adataFibro.obs['louvain'].value_counts(ascending=False, sort=True).keys()):\n",
    "        ind = list(np.nonzero(cluster_labels == cluster)[0])\n",
    "        if len(ind) == 0:\n",
    "            continue\n",
    "        medians.append(np.median(adataFibro.obsm[embedding_name][ind,], axis=0))\n",
    "    medians = np.row_stack(medians)\n",
    "    return medians\n",
    "\n",
    "hd_medians = get_cluster_medians(adataFibro.obs['louvain'], 'X_totalVI')\n",
    "hd_median_distances = pairwise_distances(hd_medians, metric='cosine')"
   ]
  },
  {
   "cell_type": "code",
   "execution_count": null,
   "id": "75a2bcd2",
   "metadata": {},
   "outputs": [],
   "source": [
    "sklearn.metrics.pairwise.PAIRWISE_DISTANCE_FUNCTIONS"
   ]
  },
  {
   "cell_type": "code",
   "execution_count": null,
   "id": "7f31acc7",
   "metadata": {},
   "outputs": [],
   "source": [
    "umap_medians = get_cluster_medians(adataFibro.obs['louvain'], 'UMAP_0')\n",
    "umap_median_distances = pairwise_distances(umap_medians, metric='euclidean')\n",
    "umap_corr = []\n",
    "for i in range(hd_median_distances.shape[0]):\n",
    "    umap_corr.append(stats.spearmanr(hd_median_distances[i, :], b=umap_median_distances[i, :], axis=0).correlation)\n",
    "umap_corr = np.row_stack(umap_corr)"
   ]
  },
  {
   "cell_type": "code",
   "execution_count": null,
   "id": "08885264",
   "metadata": {},
   "outputs": [],
   "source": [
    "tsne_medians = get_cluster_medians(adataFibro.obs['louvain'], 'tSNE_skrodzki_0')\n",
    "tsne_median_distances = pairwise_distances(tsne_medians, metric='euclidean')\n",
    "tsne_corr = []\n",
    "for i in range(hd_median_distances.shape[0]):\n",
    "    tsne_corr.append(stats.spearmanr(hd_median_distances[i, :], b=tsne_median_distances[i, :], axis=0).correlation)\n",
    "tsne_corr = np.row_stack(tsne_corr)"
   ]
  },
  {
   "cell_type": "code",
   "execution_count": null,
   "id": "f85c0786",
   "metadata": {},
   "outputs": [],
   "source": [
    "print(dict(zip(range(23), hd_median_distances[22,])))"
   ]
  },
  {
   "cell_type": "code",
   "execution_count": null,
   "id": "13fd0399",
   "metadata": {},
   "outputs": [],
   "source": [
    "adataFibro.layers['norm_genes']\n",
    "np.argwhere(adataFibro.var.index == 'Tcea1')[0][0]"
   ]
  }
 ],
 "metadata": {
  "kernelspec": {
   "display_name": "Python 3 (ipykernel)",
   "language": "python",
   "name": "python3"
  },
  "language_info": {
   "codemirror_mode": {
    "name": "ipython",
    "version": 3
   },
   "file_extension": ".py",
   "mimetype": "text/x-python",
   "name": "python",
   "nbconvert_exporter": "python",
   "pygments_lexer": "ipython3",
   "version": "3.11.5"
  }
 },
 "nbformat": 4,
 "nbformat_minor": 5
}
