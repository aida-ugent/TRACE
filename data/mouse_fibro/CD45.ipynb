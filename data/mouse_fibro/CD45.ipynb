{
 "cells": [
  {
   "cell_type": "code",
   "execution_count": null,
   "metadata": {},
   "outputs": [],
   "source": [
    "import numpy as np\n",
    "import anndata\n",
    "import scanpy as sc\n",
    "import matplotlib.pyplot as plt\n",
    "import sys  \n",
    "import pickle\n",
    "import json\n",
    "sys.path.insert(1, '../../backend/')\n",
    "from tsne import compute_tsne_series\n",
    "from dataset import Dataset as TraceData"
   ]
  },
  {
   "cell_type": "code",
   "execution_count": null,
   "metadata": {},
   "outputs": [],
   "source": [
    "baseFolder='./'\n",
    "data = pickle.load(open(baseFolder+\"post_adata_mouseCD45neg.pkl\", \"rb\"))"
   ]
  },
  {
   "cell_type": "code",
   "execution_count": null,
   "metadata": {},
   "outputs": [],
   "source": [
    "adata = anndata.AnnData(data)"
   ]
  },
  {
   "cell_type": "code",
   "execution_count": null,
   "metadata": {},
   "outputs": [],
   "source": [
    "# these are the interesting metadata features\n",
    "# sampleID is the same as sampleName, sample are integers\n",
    "adata.obs['sampleName'] = adata.obs['sampleName'].astype('category')\n",
    "adata.obs['louvain'] = adata.obs['louvain'].astype('category')\n",
    "adata.obs['type'] = adata.obs['type'].astype('category')\n",
    "# annotID is the same as annot\n",
    "adata.obs['annot'] = adata.obs['annot'].astype('category')\n",
    "\n",
    "if 'annotID' in adata.obs_keys():\n",
    "    del adata.obs['annotID']\n",
    "if 'sampleID' in adata.obs_keys():\n",
    "    del adata.obs['sampleID']\n",
    "\n",
    "# use the \"cell\" column as index for the obs dataframe\n",
    "adata.obs.index = adata.obs['cell']\n",
    "adata.obs.index.name = None\n",
    "del adata.obs['cell']\n",
    "\n",
    "delete_obs = [ob for ob in adata.obs_keys() if \"adt\" in ob]\n",
    "for delob in delete_obs:\n",
    "    del adata.obs[delob]"
   ]
  },
  {
   "cell_type": "code",
   "execution_count": null,
   "metadata": {},
   "outputs": [],
   "source": [
    "pca_emb = sc.pp.pca(adata.obsm[\"X_totalVI\"], n_comps=2, zero_center=True)"
   ]
  },
  {
   "cell_type": "code",
   "execution_count": null,
   "metadata": {},
   "outputs": [],
   "source": [
    "sc.pp.neighbors(adata, use_rep=\"X_totalVI\", n_neighbors=30, metric=\"correlation\")\n",
    "sc.tl.umap(adata, min_dist=0.2, init_pos=pca_emb, random_state=42)\n",
    "\n",
    "umap_emb = adata.obsm[\"X_umap\"]\n",
    "del adata.obsm[\"X_umap\"]"
   ]
  },
  {
   "cell_type": "code",
   "execution_count": null,
   "metadata": {},
   "outputs": [],
   "source": [
    "# center totalVI embeddings\n",
    "adata.obsm['X_totalVI'] = adata.obsm['X_totalVI'] - np.mean(adata.obsm['X_totalVI'], axis=1, keepdims=True)"
   ]
  },
  {
   "cell_type": "code",
   "execution_count": null,
   "metadata": {},
   "outputs": [],
   "source": [
    "tsne_embs = compute_tsne_series(\n",
    "    data=adata.obsm[\"X_totalVI\"],\n",
    "    init=pca_emb,\n",
    "    hd_metric=\"cosine\",\n",
    "    coarse_exag_iter=[(12, 200)],\n",
    "    fine_exag_iter=[(10, 200), (5, 200), (3, 200), (1, 200)],\n",
    "    fpath_prefix=\"./mouseCD45neg\", \n",
    "    sampling_frac=0.1,\n",
    "    smoothing_perplexity=30,\n",
    ")"
   ]
  },
  {
   "cell_type": "markdown",
   "metadata": {},
   "source": [
    "# Embedding Quality and HD Neighbors"
   ]
  },
  {
   "cell_type": "code",
   "execution_count": null,
   "metadata": {},
   "outputs": [],
   "source": [
    "trace_data = TraceData(\n",
    "    name=\"Mouse CD45neg\",\n",
    "    adata=adata,\n",
    "    hd_metric=\"cosine\",\n",
    "    hd_data_key=\"X_totalVI\",\n",
    "    verbose=True\n",
    ")"
   ]
  },
  {
   "cell_type": "code",
   "execution_count": null,
   "metadata": {},
   "outputs": [],
   "source": [
    "trace_data.add_embedding(\n",
    "    name= \"PCA\",\n",
    "    embedding = pca_emb,\n",
    "    category=\"PCA\",\n",
    ")\n",
    "\n",
    "trace_data.add_embedding(\n",
    "    name= \"UMAP\",\n",
    "    embedding = umap_emb,\n",
    "    category=\"UMAP\",\n",
    ")\n",
    "\n",
    "for exag, emb in tsne_embs.items():\n",
    "    trace_data.add_embedding(\n",
    "        name= f\"tSNE_{exag}\",\n",
    "        embedding = emb,\n",
    "        category=\"tSNE\"\n",
    "    )"
   ]
  },
  {
   "cell_type": "code",
   "execution_count": null,
   "metadata": {},
   "outputs": [],
   "source": [
    "trace_data.compute_quality()\n",
    "trace_data.print_quality()"
   ]
  }
 ],
 "metadata": {
  "kernelspec": {
   "display_name": "Python 3",
   "language": "python",
   "name": "python3"
  },
  "language_info": {
   "codemirror_mode": {
    "name": "ipython",
    "version": 3
   },
   "file_extension": ".py",
   "mimetype": "text/x-python",
   "name": "python",
   "nbconvert_exporter": "python",
   "pygments_lexer": "ipython3",
   "version": "3.11.5"
  }
 },
 "nbformat": 4,
 "nbformat_minor": 2
}
