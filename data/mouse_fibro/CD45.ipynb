{
 "cells": [
  {
   "cell_type": "code",
   "execution_count": null,
   "metadata": {},
   "outputs": [],
   "source": [
    "import numpy as np\n",
    "import anndata\n",
    "import scanpy as sc\n",
    "import matplotlib.pyplot as plt\n",
    "import sys  \n",
    "import json\n",
    "sys.path.insert(1, '../../backend/')\n",
    "from tsne import compute_tsne_series\n",
    "from utils import normalizeEmbedding"
   ]
  },
  {
   "cell_type": "code",
   "execution_count": null,
   "metadata": {},
   "outputs": [],
   "source": [
    "### Load adata\n",
    "import pickle\n",
    "baseFolder='./'\n",
    "data = pickle.load(open(baseFolder+\"post_adata_mouseCD45neg.pkl\", \"rb\"))"
   ]
  },
  {
   "cell_type": "code",
   "execution_count": null,
   "metadata": {},
   "outputs": [],
   "source": [
    "adata = anndata.AnnData(data)"
   ]
  },
  {
   "cell_type": "code",
   "execution_count": null,
   "metadata": {},
   "outputs": [],
   "source": [
    "# these are the interesting metadata features\n",
    "# sampleID is the same as sampleName, sample are integers\n",
    "adata.obs['sampleName'] = adata.obs['sampleName'].astype('category')\n",
    "adata.obs['louvain'] = adata.obs['louvain'].astype('category')\n",
    "adata.obs['type'] = adata.obs['type'].astype('category')\n",
    "# annotID is the same as annot\n",
    "adata.obs['annot'] = adata.obs['annot'].astype('category')"
   ]
  },
  {
   "cell_type": "code",
   "execution_count": null,
   "metadata": {},
   "outputs": [],
   "source": [
    "adata.obsm[\"PCA\"] = sc.pp.pca(adata.obsm[\"X_totalVI\"], n_comps=2, zero_center=True)\n",
    "plt.scatter(adata.obsm['PCA'][:,0], adata.obsm['PCA'][:,1], c=adata.obs['annot'].cat.codes, cmap='tab20')"
   ]
  },
  {
   "cell_type": "code",
   "execution_count": null,
   "metadata": {},
   "outputs": [],
   "source": [
    "sc.pp.neighbors(adata, use_rep=\"X_totalVI\", n_neighbors=30, metric=\"correlation\")\n",
    "sc.tl.umap(adata, min_dist=0.2, init_pos=adata.obsm[\"PCA\"], random_state=42)"
   ]
  },
  {
   "cell_type": "code",
   "execution_count": null,
   "metadata": {},
   "outputs": [],
   "source": [
    "plt.scatter(adata.obsm['X_umap'][:,0], adata.obsm['X_umap'][:,1], c=adata.obs['annot'].cat.codes, cmap='tab20')"
   ]
  },
  {
   "cell_type": "markdown",
   "metadata": {},
   "source": [
    "# Adding Embeddings"
   ]
  },
  {
   "cell_type": "code",
   "execution_count": null,
   "metadata": {},
   "outputs": [],
   "source": [
    "adata.uns[\"methods\"] = {}"
   ]
  },
  {
   "cell_type": "code",
   "execution_count": null,
   "metadata": {},
   "outputs": [],
   "source": [
    "adata.obsm[\"PCA\"] = normalizeEmbedding(adata.obsm[\"PCA\"])\n",
    "adata.uns[\"PCA\"] = {}\n",
    "adata.uns[\"methods\"][\"PCA\"] = [\"PCA\"]\n",
    "adata.obsm[\"UMAP\"] = normalizeEmbedding(adata.obsm[\"X_umap\"])\n",
    "adata.uns[\"UMAP\"] = {}\n",
    "adata.uns[\"methods\"][\"UMAP\"] = [\"UMAP\"]"
   ]
  },
  {
   "cell_type": "markdown",
   "metadata": {},
   "source": [
    "# t-SNE"
   ]
  },
  {
   "cell_type": "code",
   "execution_count": null,
   "metadata": {},
   "outputs": [],
   "source": [
    "# center totalVI embeddings\n",
    "adata.obsm['X_totalVI'] = adata.obsm['X_totalVI'] - np.mean(adata.obsm['X_totalVI'], axis=1, keepdims=True)"
   ]
  },
  {
   "cell_type": "code",
   "execution_count": null,
   "metadata": {},
   "outputs": [],
   "source": [
    "tsne_embs = compute_tsne_series(adata.obsm[\"X_totalVI\"], \n",
    "                                max_exaggeration=5, \n",
    "                                 fpath_prefix=\"./mouseCD45neg_tsne\", \n",
    "                                 hd_metric=\"cosine\", \n",
    "                                 init=adata.obsm[\"PCA\"])"
   ]
  },
  {
   "cell_type": "markdown",
   "metadata": {},
   "source": [
    "# Store embeddings in anndata"
   ]
  },
  {
   "cell_type": "code",
   "execution_count": null,
   "metadata": {},
   "outputs": [],
   "source": [
    "adata.uns[\"methods\"][\"tSNE\"] = []\n",
    "for name, embedding in tsne_embs.items():\n",
    "    adata.obsm[name] = normalizeEmbedding(embedding)\n",
    "    adata.uns[name] = {}\n",
    "    adata.uns[\"methods\"][\"tSNE\"] = adata.uns[\"methods\"][\"tSNE\"] + [name]"
   ]
  },
  {
   "cell_type": "code",
   "execution_count": null,
   "metadata": {},
   "outputs": [],
   "source": [
    "if \"X_pca\" in adata.obsm_keys():\n",
    "    del adata.obsm[\"X_pca\"]\n",
    "if \"X_umap\" in adata.obsm_keys():\n",
    "    del adata.obsm[\"X_umap\"]\n",
    "    \n",
    "delete_obs = [ob for ob in adata.obs_keys() if \"adt\" in ob]\n",
    "for delob in delete_obs:\n",
    "    del adata.obs[delob]"
   ]
  },
  {
   "cell_type": "code",
   "execution_count": null,
   "metadata": {},
   "outputs": [],
   "source": [
    "adata"
   ]
  },
  {
   "cell_type": "code",
   "execution_count": null,
   "metadata": {},
   "outputs": [],
   "source": [
    "adata.write(filename=\"./CD45_PCA_init.h5ad\", compression=\"gzip\")"
   ]
  }
 ],
 "metadata": {
  "kernelspec": {
   "display_name": "Python 3",
   "language": "python",
   "name": "python3"
  },
  "language_info": {
   "codemirror_mode": {
    "name": "ipython",
    "version": 3
   },
   "file_extension": ".py",
   "mimetype": "text/x-python",
   "name": "python",
   "nbconvert_exporter": "python",
   "pygments_lexer": "ipython3",
   "version": "3.11.5"
  }
 },
 "nbformat": 4,
 "nbformat_minor": 2
}
