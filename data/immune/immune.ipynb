{
 "cells": [
  {
   "cell_type": "code",
   "execution_count": null,
   "id": "0d804214",
   "metadata": {},
   "outputs": [],
   "source": [
    "import sys\n",
    "import seaborn as sns\n",
    "import numpy as np\n",
    "import anndata as ad\n",
    "import os\n",
    "import pandas as pd\n",
    "\n",
    "import json\n",
    "sys.path.insert(1, '../../backend/')\n",
    "from tsne import compute_tsne_series\n",
    "from dataset import Dataset as TraceData"
   ]
  },
  {
   "cell_type": "markdown",
   "id": "da17d281",
   "metadata": {},
   "source": [
    "### Load human immune data"
   ]
  },
  {
   "cell_type": "code",
   "execution_count": null,
   "id": "9c0c0f82",
   "metadata": {},
   "outputs": [],
   "source": [
    "### Load adata\n",
    "baseFolder='./'\n",
    "filepath = 'immune_hvg.h5ad'\n",
    "adataImmune = ad.read_h5ad(os.path.join(baseFolder, filepath))"
   ]
  },
  {
   "cell_type": "code",
   "execution_count": null,
   "id": "16501141",
   "metadata": {},
   "outputs": [],
   "source": [
    "adataImmune.obs['celltype'] = adataImmune.obs['final_annotation'].copy()\n",
    "del adataImmune.obs['final_annotation']\n",
    "del adataImmune.uns['pca']"
   ]
  },
  {
   "cell_type": "code",
   "execution_count": null,
   "id": "2f0457b4",
   "metadata": {},
   "outputs": [],
   "source": [
    "adataImmune"
   ]
  },
  {
   "cell_type": "code",
   "execution_count": null,
   "id": "155ea350",
   "metadata": {},
   "outputs": [],
   "source": [
    "batch_colors = {\n",
    "    \"10X\": \"#EBAC23\",\n",
    "    \"Oetjen_U\": \"#B80058\",\n",
    "    \"Freytag\": \"#008CF9\",\n",
    "    \"Oetjen_P\": \"#006E00\",\n",
    "    \"Oetjen_A\": \"#00BBAD\",\n",
    "    \"Sun_sample4_TC\": \"#D163E6\",\n",
    "    \"Sun_sample3_TB\": \"#B24502\",\n",
    "    \"Sun_sample2_KC\": \"#FF9287\",\n",
    "    \"Sun_sample1_CS\": \"#5954D6\",\n",
    "    \"Villani\": \"#00C6F8\",\n",
    "}\n",
    "\n",
    "cell_colors = {\n",
    "    \"CD4+ T cells\": \"#1f77b4\",\n",
    "    \"CD14+ Monocytes\": \"#ff7f0e\",\n",
    "    \"CD20+ B cells\": \"#279e68\",\n",
    "    \"NKT cells\": \"#d62728\",\n",
    "    \"NK cells\": \"#aa40fc\",\n",
    "    \"CD8+ T cells\": \"#8c564b\",\n",
    "    \"Erythrocytes\": \"#e377c2\",\n",
    "    \"Monocyte-derived dendritic cells\": \"#b5bd61\",\n",
    "    \"CD16+ Monocytes\": \"#17becf\",\n",
    "    \"HSPCs\": \"#aec7e8\",\n",
    "    \"Erythroid progenitors\": \"#ffbb78\",\n",
    "    \"Plasmacytoid dendritic cells\": \"#98df8a\",\n",
    "    \"Monocyte progenitors\": \"#ff9896\",\n",
    "    \"Megakaryocyte progenitors\": \"#c5b0d5\",\n",
    "    \"CD10+ B cells\": \"#c49c94\",\n",
    "    \"Plasma cells\": \"#f7b6d2\",\n",
    "}\n",
    "adataImmune.uns[\"celltype_colors\"] = list(cell_colors.values())\n",
    "adataImmune.uns[\"batch_colors\"] = list(batch_colors.values())"
   ]
  },
  {
   "cell_type": "markdown",
   "id": "a28d7314",
   "metadata": {},
   "source": [
    "# Embeddings"
   ]
  },
  {
   "cell_type": "code",
   "execution_count": null,
   "id": "e43131ac",
   "metadata": {},
   "outputs": [],
   "source": [
    "tsne_embs = compute_tsne_series(\n",
    "                data = adataImmune.obsm[\"X_pca\"],\n",
    "                coarse_exag_iter=[(12, 200), (10, 200)],\n",
    "                fine_exag_iter=[(10, 200), (5, 200), (3, 200), (1, 200)],\n",
    "                fpath_prefix=\"./immune\",\n",
    "                hd_metric= \"euclidean\",\n",
    "                init= adataImmune.obsm[\"X_pca\"][:, 0:2],\n",
    "                sampling_frac=0.1,\n",
    "                smoothing_perplexity=30,\n",
    "                negative_gradient_method=\"fft\"\n",
    ")"
   ]
  },
  {
   "cell_type": "code",
   "execution_count": null,
   "id": "c04a2b9c",
   "metadata": {},
   "outputs": [],
   "source": [
    "trace_data = TraceData(\n",
    "    adata=adataImmune, \n",
    "    name=\"Human Immune\", \n",
    "    hd_data_key=\"X_pca\",\n",
    "    verbose=True, \n",
    "    hd_metric=\"euclidean\"\n",
    "    )"
   ]
  },
  {
   "cell_type": "code",
   "execution_count": null,
   "id": "5579a143",
   "metadata": {},
   "outputs": [],
   "source": [
    "trace_data.add_embedding(\n",
    "    name= \"PCA\",\n",
    "    embedding = adataImmune.obsm[\"X_pca\"][:, 0:2],\n",
    "    category=\"PCA\",\n",
    ")\n",
    "\n",
    "for exag, emb in tsne_embs.items():\n",
    "    trace_data.add_embedding(\n",
    "        name= f\"tSNE_{exag}\",\n",
    "        embedding = emb,\n",
    "        category=\"tSNE\"\n",
    "    )"
   ]
  },
  {
   "cell_type": "code",
   "execution_count": null,
   "id": "8686f279",
   "metadata": {},
   "outputs": [],
   "source": [
    "trace_data.precompute_HD_neighbors(maxK=200)\n",
    "trace_data.compute_neighborhood_preservation(\n",
    "    neighborhood_sizes=[200, 100, 50]\n",
    ")\n",
    "trace_data.compute_global_distance_correlation(\n",
    "    max_landmarks=1000, LD_landmark_neighbors=True\n",
    ")"
   ]
  },
  {
   "cell_type": "code",
   "execution_count": null,
   "id": "4364b10a",
   "metadata": {},
   "outputs": [],
   "source": [
    "trace_data.print_quality()\n",
    "trace_data.align_embeddings(reference_embedding=\"PCA\")\n",
    "trace_data.save_adata(filename=\"./immune.h5ad\")"
   ]
  },
  {
   "cell_type": "markdown",
   "id": "f6acd0ce",
   "metadata": {},
   "source": [
    "# Adding Triplet Accuracy"
   ]
  },
  {
   "cell_type": "code",
   "execution_count": null,
   "id": "8066f0b0",
   "metadata": {},
   "outputs": [],
   "source": [
    "trace_data = TraceData(\n",
    "    filepath=\"./immune.h5ad\",\n",
    "    name=\"Human Immune\", \n",
    "    hd_data_key=\"X_pca\",\n",
    "    verbose=True, \n",
    "    hd_metric=\"euclidean\"\n",
    ")\n",
    "trace_data.compute_random_triplet_accuracy(num_triplets=25)\n",
    "trace_data.print_quality()\n",
    "trace_data.save_adata(filename=\"./immune_with_triplets.h5ad\")"
   ]
  }
 ],
 "metadata": {
  "kernelspec": {
   "display_name": "Python 3 (ipykernel)",
   "language": "python",
   "name": "python3"
  },
  "language_info": {
   "codemirror_mode": {
    "name": "ipython",
    "version": 3
   },
   "file_extension": ".py",
   "mimetype": "text/x-python",
   "name": "python",
   "nbconvert_exporter": "python",
   "pygments_lexer": "ipython3",
   "version": "3.12.1"
  }
 },
 "nbformat": 4,
 "nbformat_minor": 5
}
