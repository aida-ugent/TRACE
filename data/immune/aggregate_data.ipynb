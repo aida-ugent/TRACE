{
 "cells": [
  {
   "cell_type": "code",
   "execution_count": null,
   "id": "0d804214",
   "metadata": {},
   "outputs": [],
   "source": [
    "import sys\n",
    "import matplotlib\n",
    "import matplotlib.pyplot as plt\n",
    "from matplotlib.colors import LinearSegmentedColormap\n",
    "import seaborn as sns\n",
    "# from datetime import datetime\n",
    "\n",
    "import numpy as np\n",
    "import anndata as ad\n",
    "import os\n",
    "# import numpy.random as random\n",
    "import pandas as pd\n",
    "import scanpy as sc\n",
    "# import louvain\n",
    "import json\n",
    "# import torch\n",
    "\n",
    "# # Control UMAP numba warnings\n",
    "# import warnings; warnings.simplefilter('ignore')\n",
    "\n",
    "# %matplotlib inline"
   ]
  },
  {
   "cell_type": "markdown",
   "id": "da17d281",
   "metadata": {},
   "source": [
    "### Load human immune data"
   ]
  },
  {
   "cell_type": "code",
   "execution_count": null,
   "id": "9c0c0f82",
   "metadata": {},
   "outputs": [],
   "source": [
    "### Load adata\n",
    "baseFolder='./'\n",
    "filepath = 'immune_processed.h5ad'\n",
    "adataImmune = ad.read_h5ad(os.path.join(baseFolder, filepath))"
   ]
  },
  {
   "cell_type": "code",
   "execution_count": null,
   "id": "16501141",
   "metadata": {},
   "outputs": [],
   "source": [
    "#adataImmune.obs = adataImmune.obs.replace('final_annotation', \"celltype\")\n",
    "adataImmune.obs['celltype'] = adataImmune.obs['final_annotation'].copy()\n",
    "del adataImmune.obs['final_annotation']\n",
    "del adataImmune.uns['pca']"
   ]
  },
  {
   "cell_type": "code",
   "execution_count": null,
   "id": "2f0457b4",
   "metadata": {},
   "outputs": [],
   "source": [
    "adataImmune"
   ]
  },
  {
   "cell_type": "code",
   "execution_count": null,
   "id": "a7f6fb75",
   "metadata": {},
   "outputs": [],
   "source": [
    "np.argsort(adataImmune.varm[\"PCs\"][:, 3])[::-1]\n",
    "#adataImmune.var_names[np.argsort(np.var(adataImmune.X[[0,1,2,3], :], axis=0))]"
   ]
  },
  {
   "cell_type": "code",
   "execution_count": null,
   "id": "155ea350",
   "metadata": {},
   "outputs": [],
   "source": [
    "batch_colors = {\n",
    "    \"10X\": \"#EBAC23\",\n",
    "    \"Oetjen_U\": \"#B80058\",\n",
    "    \"Freytag\": \"#008CF9\",\n",
    "    \"Oetjen_P\": \"#006E00\",\n",
    "    \"Oetjen_A\": \"#00BBAD\",\n",
    "    \"Sun_sample4_TC\": \"#D163E6\",\n",
    "    \"Sun_sample3_TB\": \"#B24502\",\n",
    "    \"Sun_sample2_KC\": \"#FF9287\",\n",
    "    \"Sun_sample1_CS\": \"#5954D6\",\n",
    "    \"Villani\": \"#00C6F8\",\n",
    "}\n",
    "\n",
    "cell_colors = {\n",
    "    \"CD4+ T cells\": \"#1f77b4\",\n",
    "    \"CD14+ Monocytes\": \"#ff7f0e\",\n",
    "    \"CD20+ B cells\": \"#279e68\",\n",
    "    \"NKT cells\": \"#d62728\",\n",
    "    \"NK cells\": \"#aa40fc\",\n",
    "    \"CD8+ T cells\": \"#8c564b\",\n",
    "    \"Erythrocytes\": \"#e377c2\",\n",
    "    \"Monocyte-derived dendritic cells\": \"#b5bd61\",\n",
    "    \"CD16+ Monocytes\": \"#17becf\",\n",
    "    \"HSPCs\": \"#aec7e8\",\n",
    "    \"Erythroid progenitors\": \"#ffbb78\",\n",
    "    \"Plasmacytoid dendritic cells\": \"#98df8a\",\n",
    "    \"Monocyte progenitors\": \"#ff9896\",\n",
    "    \"Megakaryocyte progenitors\": \"#c5b0d5\",\n",
    "    \"CD10+ B cells\": \"#c49c94\",\n",
    "    \"Plasma cells\": \"#f7b6d2\",\n",
    "}\n",
    "adataImmune.uns[\"celltype_colors\"] = list(cell_colors.values())\n",
    "adataImmune.uns[\"batch_colors\"] = list(batch_colors.values())"
   ]
  },
  {
   "cell_type": "code",
   "execution_count": null,
   "id": "939fe14c",
   "metadata": {},
   "outputs": [],
   "source": [
    "adataImmune.uns['methods'] = {'PCA': [], 'UMAP': [], 'tSNE': [], 'tSNE_skrodzi': [], 'PaCMAP': []}"
   ]
  },
  {
   "cell_type": "code",
   "execution_count": null,
   "id": "7048d707",
   "metadata": {},
   "outputs": [],
   "source": [
    "def normalizeEmbedding(arr):\n",
    "    min = np.min(arr)\n",
    "    diff = np.max(arr) - min\n",
    "    arr = (2 * ((arr - min) / diff)) - 1\n",
    "    return arr"
   ]
  },
  {
   "cell_type": "code",
   "execution_count": null,
   "id": "f4237a3b",
   "metadata": {},
   "outputs": [],
   "source": [
    "def addEmbedding(method, fileHandle, embedding_key):\n",
    "    embedding = json.load(fileHandle)\n",
    "    adataImmune.uns[embedding_key] = {'neighborhood preservation k=50': np.asarray(embedding['qnx@50'], dtype=np.float32),\n",
    "                                    'neighborhood preservation k=200': np.asarray(embedding['qnx@200'], dtype=np.float32)}\n",
    "    embedding_arr = np.asarray([embedding[\"x\"], embedding[\"y\"]], dtype=np.float32).T\n",
    "    adataImmune.obsm[embedding_key] = normalizeEmbedding(embedding_arr)\n",
    "    adataImmune.uns[\"methods\"][method] = adataImmune.uns[\"methods\"][method] + [embedding_key]"
   ]
  },
  {
   "cell_type": "code",
   "execution_count": null,
   "id": "a7c87fd1",
   "metadata": {},
   "outputs": [],
   "source": [
    "# PCA\n",
    "pca_f = open(os.path.join(baseFolder, 'embeddings', f'pca_embedding_quality.json'))\n",
    "addEmbedding('PCA', pca_f, 'PCA')"
   ]
  },
  {
   "cell_type": "code",
   "execution_count": null,
   "id": "a5e68808",
   "metadata": {},
   "outputs": [],
   "source": [
    "# T-SNE\n",
    "tsne_fnames = [\n",
    "    (\"tSNE (exag 5, perp 335)\", \"multiscaletsne_embedding_exg_5_perp_335_quality.json\"),\n",
    "    (\"tSNE (exag 4, perp 259)\", \"multiscaletsne_embedding_exg_4_perp_259_quality.json\"),\n",
    "    (\"tSNE (exag 3, perp 183)\", \"multiscaletsne_embedding_exg_3_perp_183_quality.json\"),\n",
    "    (\"tSNE (exag 2, perp 107)\", \"multiscaletsne_embedding_exg_2_perp_107_quality.json\"),\n",
    "    (\"tSNE (exag 1, perp 30)\", \"multiscaletsne_embedding_exg_1_perp_30_quality.json\"),\n",
    "    (\n",
    "        \"denSNE (exag 1, perp 30)\",\n",
    "        \"multiscaletsne_embedding_exg_1_perp_30_densne_quality.json\",\n",
    "    ),\n",
    "]\n",
    "\n",
    "for name, filename in tsne_fnames:\n",
    "    with open(os.path.join(baseFolder, \"embeddings\", filename)) as f:\n",
    "        addEmbedding(\"tSNE\", f, name)"
   ]
  },
  {
   "cell_type": "code",
   "execution_count": null,
   "id": "6861220e",
   "metadata": {},
   "outputs": [],
   "source": [
    "# UMAP\n",
    "for i in range(6):\n",
    "    with open(os.path.join(baseFolder, 'embeddings', f'umap_{i}_quality.json')) as f:\n",
    "        addEmbedding('UMAP', f, f'UMAP {i}')"
   ]
  },
  {
   "cell_type": "code",
   "execution_count": null,
   "id": "7776fb80",
   "metadata": {},
   "outputs": [],
   "source": [
    "# PaCMAP\n",
    "pacmap_fnames = ['pacmap_embedding_quality.json',\n",
    "                 'pacmap_harmony_0_quality.json',\n",
    "                 'pacmap_harmony_cd20bcell_refinement_quality.json']\n",
    "for i, fname in enumerate(pacmap_fnames):\n",
    "    with open(os.path.join(baseFolder, 'embeddings', fname)) as f:\n",
    "        addEmbedding('PaCMAP', f, f'PaCMAP {i}')"
   ]
  },
  {
   "cell_type": "code",
   "execution_count": null,
   "id": "80c6bc39",
   "metadata": {},
   "outputs": [],
   "source": [
    "# t-SNE Skrodzi\n",
    "adataImmune.uns['tSNE_skrodzi'] = {}\n",
    "\n",
    "for i in range(5):\n",
    "    with open(os.path.join(baseFolder, 'embeddings', f'tsne_skrodzi_{i}.csv')) as f:\n",
    "        adataImmune.uns[f\"tSNE_skrodzi_{i}\"] = {}\n",
    "        embedding = np.loadtxt(f, delimiter=\",\")\n",
    "        embedding_arr = np.asarray([embedding[:, 0], embedding[:, 1]], dtype=np.float32).T\n",
    "        adataImmune.obsm[f\"tSNE_skrodzi_{i}\"] = normalizeEmbedding(embedding_arr)\n",
    "        adataImmune.uns[\"methods\"][\"tSNE_skrodzi\"] = adataImmune.uns[\"methods\"][\"tSNE_skrodzi\"] + [f\"tSNE_skrodzi_{i}\"]"
   ]
  },
  {
   "cell_type": "code",
   "execution_count": null,
   "id": "a2c9e260",
   "metadata": {},
   "outputs": [],
   "source": [
    "adataImmune"
   ]
  },
  {
   "cell_type": "code",
   "execution_count": null,
   "id": "1173b2a7",
   "metadata": {},
   "outputs": [],
   "source": [
    "adataImmune.write_h5ad(os.path.join(baseFolder, 'immune_with_embeddings_new.h5ad'), compression='gzip')"
   ]
  }
 ],
 "metadata": {
  "kernelspec": {
   "display_name": "Python 3 (ipykernel)",
   "language": "python",
   "name": "python3"
  },
  "language_info": {
   "codemirror_mode": {
    "name": "ipython",
    "version": 3
   },
   "file_extension": ".py",
   "mimetype": "text/x-python",
   "name": "python",
   "nbconvert_exporter": "python",
   "pygments_lexer": "ipython3",
   "version": "3.11.5"
  }
 },
 "nbformat": 4,
 "nbformat_minor": 5
}
