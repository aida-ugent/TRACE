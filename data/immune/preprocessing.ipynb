{
 "cells": [
  {
   "cell_type": "code",
   "execution_count": null,
   "metadata": {},
   "outputs": [],
   "source": [
    "import sys\n",
    "import matplotlib\n",
    "import matplotlib.pyplot as plt\n",
    "from matplotlib.colors import LinearSegmentedColormap\n",
    "import seaborn as sns\n",
    "# from datetime import datetime\n",
    "\n",
    "import numpy as np\n",
    "import anndata as ad\n",
    "import os\n",
    "import pandas as pd\n",
    "import scanpy as sc\n",
    "import json\n",
    "import pynndescent\n",
    "from annoy import AnnoyIndex\n"
   ]
  },
  {
   "cell_type": "code",
   "execution_count": null,
   "metadata": {},
   "outputs": [],
   "source": [
    "### Load adata\n",
    "baseFolder='./'\n",
    "#filepath = 'mouseCD45neg_embeddings_with_neighbors.h5ad'\n",
    "filepath = 'immune_with_embeddings_new_20231031_171827.h5ad'\n",
    "adata = ad.read_h5ad(os.path.join(baseFolder, filepath))"
   ]
  },
  {
   "cell_type": "code",
   "execution_count": null,
   "metadata": {},
   "outputs": [],
   "source": [
    "adata"
   ]
  },
  {
   "cell_type": "code",
   "execution_count": null,
   "metadata": {},
   "outputs": [],
   "source": [
    "#adata.uns[\"hd_neighbors\"] = {\"euclidean\": adata.obsm['hd_neighbors']}\n",
    "#del adata.obsm[\"hd_neighbors\"]"
   ]
  },
  {
   "cell_type": "code",
   "execution_count": null,
   "metadata": {},
   "outputs": [],
   "source": [
    "adata.uns['PCA_0'] = adata.uns['PCA']['0']"
   ]
  },
  {
   "cell_type": "code",
   "execution_count": null,
   "metadata": {},
   "outputs": [],
   "source": [
    "for i in range(5):\n",
    "    adata.obsm[f\"tSNE_skrodzki_{i}\"] = adata.obsm[f\"tSNE_skrodzi_{i}\"].copy()\n",
    "    del adata.obsm[f\"tSNE_skrodzi_{i}\"]"
   ]
  },
  {
   "cell_type": "code",
   "execution_count": null,
   "metadata": {},
   "outputs": [],
   "source": [
    "method = 'PaCMAP'\n",
    "\n",
    "for i in range(len(adata.uns[method])):\n",
    "    adata.uns[f'{method}_{i}'] = adata.uns[method][str(i)]"
   ]
  },
  {
   "cell_type": "code",
   "execution_count": null,
   "metadata": {},
   "outputs": [],
   "source": [
    "for k in adata.uns['methods']:\n",
    "    del adata.uns[k]"
   ]
  },
  {
   "cell_type": "code",
   "execution_count": null,
   "metadata": {},
   "outputs": [],
   "source": [
    "adata.uns_keys"
   ]
  },
  {
   "cell_type": "code",
   "execution_count": null,
   "metadata": {},
   "outputs": [],
   "source": [
    "adata.uns['tSNE_0']"
   ]
  },
  {
   "cell_type": "code",
   "execution_count": null,
   "metadata": {},
   "outputs": [],
   "source": [
    "adata.uns[\"methods\"] = {'UMAP': 6,\n",
    "                        'PCA': 1,\n",
    "                        'tSNE_skrodzki': 5,\n",
    "                        'tSNE': 6,\n",
    "                        'PaCMAP': 3,\n",
    "                        }"
   ]
  },
  {
   "cell_type": "code",
   "execution_count": null,
   "metadata": {},
   "outputs": [],
   "source": [
    "adata.write_h5ad(os.path.join(baseFolder, 'immune_with_embeddings_new.h5ad'), compression='gzip')"
   ]
  }
 ],
 "metadata": {
  "kernelspec": {
   "display_name": "Python 3",
   "language": "python",
   "name": "python3"
  },
  "language_info": {
   "codemirror_mode": {
    "name": "ipython",
    "version": 3
   },
   "file_extension": ".py",
   "mimetype": "text/x-python",
   "name": "python",
   "nbconvert_exporter": "python",
   "pygments_lexer": "ipython3",
   "version": "3.11.5"
  }
 },
 "nbformat": 4,
 "nbformat_minor": 2
}
