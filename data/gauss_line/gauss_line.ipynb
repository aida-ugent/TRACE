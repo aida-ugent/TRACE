{
 "cells": [
  {
   "cell_type": "code",
   "execution_count": null,
   "metadata": {},
   "outputs": [],
   "source": [
    "import numpy as np\n",
    "import anndata\n",
    "import scanpy as sc\n",
    "import matplotlib.pyplot as plt\n",
    "import sys  \n",
    "sys.path.insert(1, '../../backend/')\n",
    "from tsne import compute_tsne_series\n",
    "from utils import normalizeEmbedding"
   ]
  },
  {
   "cell_type": "code",
   "execution_count": null,
   "metadata": {},
   "outputs": [],
   "source": [
    "# this function is copied from Böhm et al. (2022)\n",
    "# https://github.com/berenslab/ne-spectrum/blob/56e7204710258d541fb716033d3542a4fca2705e/jnb_msc/generator/gauss_line.py#L72\n",
    "def gauss_clusters(\n",
    "    n_clusters=10, dim=50, pts_cluster=100, random_state=None, cov=1, stepsize=6,\n",
    "):\n",
    "\n",
    "    if random_state is None:\n",
    "        rng = np.random.RandomState()\n",
    "    else:\n",
    "        rng = random_state\n",
    "\n",
    "    n = n_clusters * pts_cluster\n",
    "\n",
    "    s = stepsize / np.sqrt(dim)\n",
    "    means = np.linspace(np.zeros(dim), n_clusters * s, num=n_clusters, endpoint=False)\n",
    "    cov = np.eye(dim) * cov\n",
    "\n",
    "    clusters = np.array(\n",
    "        [rng.multivariate_normal(m, cov, size=(pts_cluster)) for m in means]\n",
    "    )\n",
    "\n",
    "    X = np.reshape(clusters, (-1, dim))\n",
    "    y = np.repeat(np.arange(n_clusters), pts_cluster)\n",
    "    return X, y"
   ]
  },
  {
   "cell_type": "code",
   "execution_count": null,
   "metadata": {},
   "outputs": [],
   "source": [
    "data, labels = gauss_clusters()\n",
    "print(data.shape)"
   ]
  },
  {
   "cell_type": "code",
   "execution_count": null,
   "metadata": {},
   "outputs": [],
   "source": [
    "adata = anndata.AnnData(X=data, obs={\"labels\": labels.astype(int)})"
   ]
  },
  {
   "cell_type": "markdown",
   "metadata": {},
   "source": [
    "# PCA"
   ]
  },
  {
   "cell_type": "code",
   "execution_count": null,
   "metadata": {},
   "outputs": [],
   "source": [
    "sc.pp.pca(adata, n_comps=2, zero_center=True)\n",
    "plt.scatter(adata.obsm['X_pca'][:,0], adata.obsm['X_pca'][:,1], c=labels)"
   ]
  },
  {
   "cell_type": "markdown",
   "metadata": {},
   "source": [
    "# UMAP"
   ]
  },
  {
   "cell_type": "code",
   "execution_count": null,
   "metadata": {},
   "outputs": [],
   "source": [
    "sc.pp.neighbors(adata, n_neighbors=30, metric=\"euclidean\")\n",
    "sc.tl.umap(adata, min_dist=0.2, init_pos=\"X_pca\")"
   ]
  },
  {
   "cell_type": "code",
   "execution_count": null,
   "metadata": {},
   "outputs": [],
   "source": [
    "plt.scatter(adata.obsm['X_umap'][:,0], adata.obsm['X_umap'][:,1], c=labels)"
   ]
  },
  {
   "cell_type": "code",
   "execution_count": null,
   "metadata": {},
   "outputs": [],
   "source": [
    "%%capture\n",
    "tsne_embs = compute_tsne_series(adata.X, max_exaggeration=5, \n",
    "                                 fpath_prefix=\"./tSNE\", \n",
    "                                 hd_metric=\"euclidean\", init=adata.obsm[\"X_pca\"])"
   ]
  },
  {
   "cell_type": "markdown",
   "metadata": {},
   "source": [
    "# Store embeddings in anndata"
   ]
  },
  {
   "cell_type": "code",
   "execution_count": null,
   "metadata": {},
   "outputs": [],
   "source": [
    "# tSNE\n",
    "for name, embedding in tsne_embs.items():\n",
    "    adata.obsm[name] = normalizeEmbedding(embedding)"
   ]
  },
  {
   "cell_type": "code",
   "execution_count": null,
   "metadata": {},
   "outputs": [],
   "source": [
    "adata.obsm[\"PCA\"] = normalizeEmbedding(adata.obsm[\"X_pca\"][:, 0:2])\n",
    "adata.obsm[\"UMAP\"] = normalizeEmbedding(adata.obsm[\"X_umap\"])\n",
    "adata.uns[\"methods\"] = {\n",
    "    \"UMAP\": [\"UMAP\"],\n",
    "    \"PCA\": [\"PCA\"],\n",
    "    \"tSNE\": list(tsne_embs.keys()),\n",
    "}"
   ]
  },
  {
   "cell_type": "code",
   "execution_count": null,
   "metadata": {},
   "outputs": [],
   "source": [
    "if \"X_pca\" in adata.obsm_keys():\n",
    "    del adata.obsm[\"X_pca\"]\n",
    "if \"X_umap\" in adata.obsm_keys():\n",
    "    del adata.obsm[\"X_umap\"]\n",
    "adata.write(filename=\"./gauss_line.h5ad\", compression=\"gzip\")"
   ]
  }
 ],
 "metadata": {
  "kernelspec": {
   "display_name": "Python 3",
   "language": "python",
   "name": "python3"
  },
  "language_info": {
   "codemirror_mode": {
    "name": "ipython",
    "version": 3
   },
   "file_extension": ".py",
   "mimetype": "text/x-python",
   "name": "python",
   "nbconvert_exporter": "python",
   "pygments_lexer": "ipython3",
   "version": "3.11.5"
  }
 },
 "nbformat": 4,
 "nbformat_minor": 2
}
