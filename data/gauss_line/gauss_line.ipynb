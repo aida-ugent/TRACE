{
 "cells": [
  {
   "cell_type": "code",
   "execution_count": null,
   "metadata": {},
   "outputs": [],
   "source": [
    "import numpy as np\n",
    "import scanpy as sc\n",
    "import sys \n",
    "import matplotlib.pyplot as plt\n",
    "sys.path.insert(1, '../../backend/')\n",
    "from tsne import compute_tsne_series\n",
    "from dataset import Dataset as TraceData"
   ]
  },
  {
   "cell_type": "code",
   "execution_count": null,
   "metadata": {},
   "outputs": [],
   "source": [
    "# this function is copied from Böhm et al. (2022)\n",
    "# https://github.com/berenslab/ne-spectrum/blob/56e7204710258d541fb716033d3542a4fca2705e/jnb_msc/generator/gauss_line.py#L72\n",
    "def gauss_clusters(\n",
    "    n_clusters=10, dim=20, pts_cluster=100, random_state=None, cov=1, stepsize=6,\n",
    "):\n",
    "    if random_state is None:\n",
    "        rng = np.random.RandomState()\n",
    "    else:\n",
    "        rng = random_state\n",
    "\n",
    "    s = stepsize / np.sqrt(dim)\n",
    "    means = np.linspace(np.zeros(dim), n_clusters * s, num=n_clusters, endpoint=False)\n",
    "    cov = np.eye(dim) * cov\n",
    "\n",
    "    clusters = np.array(\n",
    "        [rng.multivariate_normal(m, cov, size=(pts_cluster)) for m in means]\n",
    "    )\n",
    "\n",
    "    X = np.reshape(clusters, (-1, dim))\n",
    "    y = np.repeat(np.arange(n_clusters), pts_cluster)\n",
    "    return X, y"
   ]
  },
  {
   "cell_type": "code",
   "execution_count": null,
   "metadata": {},
   "outputs": [],
   "source": [
    "data, labels = gauss_clusters()\n",
    "print(data.shape)\n"
   ]
  },
  {
   "cell_type": "markdown",
   "metadata": {},
   "source": [
    "# Embeddings"
   ]
  },
  {
   "cell_type": "code",
   "execution_count": null,
   "metadata": {},
   "outputs": [],
   "source": [
    "pca_emb = sc.pp.pca(data, n_comps=2, zero_center=True)\n",
    "plt.scatter(pca_emb[:, 0], pca_emb[:, 1], c=labels)\n",
    "plt.gca().set_aspect('equal')"
   ]
  },
  {
   "cell_type": "code",
   "execution_count": null,
   "metadata": {},
   "outputs": [],
   "source": [
    "tsne_embs = compute_tsne_series(\n",
    "                data = data,\n",
    "                fine_exag_iter=[(10, 200), (5, 200), (3, 200), (1, 200)],\n",
    "                fpath_prefix=\"gaussian_line\",\n",
    "                hd_metric= \"euclidean\",\n",
    "                init= pca_emb,\n",
    "                sampling_frac=1, # no need to subsample for this small dataset\n",
    "                smoothing_perplexity=30,\n",
    "                random_state=42\n",
    ")"
   ]
  },
  {
   "cell_type": "markdown",
   "metadata": {},
   "source": [
    "# Quality Measures and HD Neighbors"
   ]
  },
  {
   "cell_type": "code",
   "execution_count": null,
   "metadata": {},
   "outputs": [],
   "source": [
    "trace_data = TraceData(\n",
    "    hd_data=data,\n",
    "    name=\"gauss line\",\n",
    "    verbose=True,\n",
    "    hd_metric=\"euclidean\",\n",
    ")\n",
    "\n",
    "trace_data.add_metadata({\"labels\": labels.astype(int)})"
   ]
  },
  {
   "cell_type": "code",
   "execution_count": null,
   "metadata": {},
   "outputs": [],
   "source": [
    "trace_data.add_embedding(\n",
    "    name= \"PCA\",\n",
    "    embedding = pca_emb,\n",
    "    category=\"PCA\",\n",
    ")\n",
    "\n",
    "for exag, emb in tsne_embs.items():\n",
    "    trace_data.add_embedding(\n",
    "        name= f\"tSNE_{exag}\",\n",
    "        embedding = emb,\n",
    "        category=\"tSNE\"\n",
    "    )"
   ]
  },
  {
   "cell_type": "code",
   "execution_count": null,
   "metadata": {},
   "outputs": [],
   "source": [
    "trace_data.compute_quality()"
   ]
  },
  {
   "cell_type": "code",
   "execution_count": null,
   "metadata": {},
   "outputs": [],
   "source": [
    "trace_data.print_quality()"
   ]
  }
 ],
 "metadata": {
  "kernelspec": {
   "display_name": "Python 3",
   "language": "python",
   "name": "python3"
  },
  "language_info": {
   "codemirror_mode": {
    "name": "ipython",
    "version": 3
   },
   "file_extension": ".py",
   "mimetype": "text/x-python",
   "name": "python",
   "nbconvert_exporter": "python",
   "pygments_lexer": "ipython3",
   "version": "3.11.5"
  }
 },
 "nbformat": 4,
 "nbformat_minor": 2
}
