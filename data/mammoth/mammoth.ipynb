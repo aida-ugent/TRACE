{
 "cells": [
  {
   "cell_type": "code",
   "execution_count": null,
   "metadata": {},
   "outputs": [],
   "source": [
    "import numpy as np\n",
    "import anndata\n",
    "import scanpy as sc\n",
    "import matplotlib.pyplot as plt\n",
    "import sys  \n",
    "import json\n",
    "sys.path.insert(1, '../../backend/')\n",
    "from tsne import compute_tsne_series\n",
    "from utils import normalizeEmbedding"
   ]
  },
  {
   "cell_type": "code",
   "execution_count": null,
   "metadata": {},
   "outputs": [],
   "source": [
    "# First, download the Mammoth data from Wang et al. (2021)\n",
    "# https://github.com/YingfanWang/PaCMAP/blob/master/data/mammoth_3d_50k.json\n",
    "with open('./mammoth_3d_50k.json', 'r') as f:\n",
    "    data = json.load(f)\n",
    "data = np.array(data)"
   ]
  },
  {
   "cell_type": "code",
   "execution_count": null,
   "metadata": {},
   "outputs": [],
   "source": [
    "adata = anndata.AnnData(data)\n",
    "sc.pp.neighbors(adata, n_neighbors=30, use_rep='X', metric=\"euclidean\")\n",
    "sc.tl.louvain(adata, resolution=0.1)"
   ]
  },
  {
   "cell_type": "markdown",
   "metadata": {},
   "source": [
    "# PCA"
   ]
  },
  {
   "cell_type": "code",
   "execution_count": null,
   "metadata": {},
   "outputs": [],
   "source": [
    "sc.pp.pca(adata, n_comps=2, zero_center=True)\n",
    "adata.obsm[\"X_pca\"] = -1*adata.obsm[\"X_pca\"]\n",
    "plt.scatter(adata.obsm['X_pca'][:,0], adata.obsm['X_pca'][:,1])"
   ]
  },
  {
   "cell_type": "markdown",
   "metadata": {},
   "source": [
    "# UMAP"
   ]
  },
  {
   "cell_type": "code",
   "execution_count": null,
   "metadata": {},
   "outputs": [],
   "source": [
    "sc.tl.umap(adata, min_dist=0.2, init_pos=\"X_pca\")"
   ]
  },
  {
   "cell_type": "code",
   "execution_count": null,
   "metadata": {},
   "outputs": [],
   "source": [
    "plt.scatter(adata.obsm['X_umap'][:,0], adata.obsm['X_umap'][:,1])"
   ]
  },
  {
   "cell_type": "code",
   "execution_count": null,
   "metadata": {},
   "outputs": [],
   "source": [
    "%%capture\n",
    "tsne_embs = compute_tsne_series(adata.X, max_exaggeration=5, \n",
    "                                 fpath_prefix=\"./mammoth_tsne\", \n",
    "                                 hd_metric=\"euclidean\", \n",
    "                                 init=adata.obsm[\"X_pca\"])"
   ]
  },
  {
   "cell_type": "markdown",
   "metadata": {},
   "source": [
    "# Store embeddings in anndata"
   ]
  },
  {
   "cell_type": "code",
   "execution_count": null,
   "metadata": {},
   "outputs": [],
   "source": [
    "# tSNE\n",
    "for name, embedding in tsne_embs.items():\n",
    "    adata.obsm[name] = normalizeEmbedding(embedding)\n",
    "    adata.uns[name] = {}"
   ]
  },
  {
   "cell_type": "code",
   "execution_count": null,
   "metadata": {},
   "outputs": [],
   "source": [
    "adata.obsm[\"PCA\"] = normalizeEmbedding(adata.obsm[\"X_pca\"][:, 0:2])\n",
    "adata.obsm[\"UMAP\"] = normalizeEmbedding(adata.obsm[\"X_umap\"])\n",
    "adata.uns[\"UMAP\"] = {}\n",
    "adata.uns[\"PCA\"] = {}\n",
    "adata.uns[\"methods\"] = {\n",
    "    \"UMAP\": [\"UMAP\"],\n",
    "    \"PCA\": [\"PCA\"],\n",
    "    \"tSNE\": list(tsne_embs.keys()),\n",
    "}"
   ]
  },
  {
   "cell_type": "code",
   "execution_count": null,
   "metadata": {},
   "outputs": [],
   "source": [
    "if \"pca\" in adata.uns_keys():\n",
    "    adata.uns[\"PCA\"][\"params\"] = adata.uns[\"pca\"][\"params\"]\n",
    "    del adata.uns[\"pca\"]\n",
    "if \"umap\" in adata.uns_keys():\n",
    "    adata.uns[\"UMAP\"][\"params\"] = adata.uns[\"umap\"][\"params\"]\n",
    "    del adata.uns[\"umap\"]"
   ]
  },
  {
   "cell_type": "code",
   "execution_count": null,
   "metadata": {},
   "outputs": [],
   "source": [
    "if \"X_pca\" in adata.obsm_keys():\n",
    "    del adata.obsm[\"X_pca\"]\n",
    "if \"X_umap\" in adata.obsm_keys():\n",
    "    del adata.obsm[\"X_umap\"]\n",
    "adata.write(filename=\"./mammoth.h5ad\", compression=\"gzip\")"
   ]
  }
 ],
 "metadata": {
  "kernelspec": {
   "display_name": "Python 3",
   "language": "python",
   "name": "python3"
  },
  "language_info": {
   "codemirror_mode": {
    "name": "ipython",
    "version": 3
   },
   "file_extension": ".py",
   "mimetype": "text/x-python",
   "name": "python",
   "nbconvert_exporter": "python",
   "pygments_lexer": "ipython3",
   "version": "3.11.5"
  }
 },
 "nbformat": 4,
 "nbformat_minor": 2
}
