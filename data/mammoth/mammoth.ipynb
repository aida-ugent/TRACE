{
 "cells": [
  {
   "cell_type": "code",
   "execution_count": null,
   "metadata": {},
   "outputs": [],
   "source": [
    "import numpy as np\n",
    "import anndata\n",
    "import scanpy as sc\n",
    "import matplotlib.pyplot as plt\n",
    "import sys  \n",
    "import json\n",
    "sys.path.insert(1, '../../backend/')\n",
    "from tsne import compute_tsne_series\n",
    "from dataset import Dataset as TraceData"
   ]
  },
  {
   "cell_type": "code",
   "execution_count": null,
   "metadata": {},
   "outputs": [],
   "source": [
    "# First, download the Mammoth data from Wang et al. (2021)\n",
    "# https://github.com/YingfanWang/PaCMAP/blob/master/data/mammoth_3d_50k.json\n",
    "with open('./mammoth_3d_50k.json', 'r') as f:\n",
    "    data = json.load(f)\n",
    "data = np.array(data)"
   ]
  },
  {
   "cell_type": "code",
   "execution_count": null,
   "metadata": {},
   "outputs": [],
   "source": [
    "adata = anndata.AnnData(data)\n",
    "sc.pp.neighbors(adata, n_neighbors=30, use_rep='X', metric=\"euclidean\")\n",
    "sc.tl.louvain(adata, resolution=0.1)"
   ]
  },
  {
   "cell_type": "markdown",
   "metadata": {},
   "source": [
    "# Embeddings"
   ]
  },
  {
   "cell_type": "code",
   "execution_count": null,
   "metadata": {},
   "outputs": [],
   "source": [
    "pca_emb = sc.pp.pca(data, n_comps=2, zero_center=True)\n",
    "pca_emb = -1* pca_emb\n",
    "plt.scatter(pca_emb[:, 0], pca_emb[:, 1])\n",
    "plt.gca().set_aspect('equal')"
   ]
  },
  {
   "cell_type": "code",
   "execution_count": null,
   "metadata": {},
   "outputs": [],
   "source": [
    "tsne_embs = compute_tsne_series(\n",
    "                data = data,\n",
    "                coarse_exag_iter=[(12, 200), (10, 200)],\n",
    "                fine_exag_iter=[(10, 200), (5, 200), (3, 200), (1, 200)],\n",
    "                fpath_prefix=\"./mammoth\",\n",
    "                hd_metric= \"euclidean\",\n",
    "                init= pca_emb,\n",
    "                sampling_frac=0.1,\n",
    "                smoothing_perplexity=30,\n",
    "                negative_gradient_method=\"fft\"\n",
    ")"
   ]
  },
  {
   "cell_type": "markdown",
   "metadata": {},
   "source": [
    "# Quality Measures and HD neighbors"
   ]
  },
  {
   "cell_type": "code",
   "execution_count": null,
   "metadata": {},
   "outputs": [],
   "source": [
    "trace_data = TraceData(\n",
    "    hd_data=data,\n",
    "    name=\"Mammoth\",\n",
    "    verbose=True,\n",
    "    hd_metric=\"euclidean\",\n",
    ")"
   ]
  },
  {
   "cell_type": "code",
   "execution_count": null,
   "metadata": {},
   "outputs": [],
   "source": [
    "trace_data.add_metadata(adata.obs)"
   ]
  },
  {
   "cell_type": "code",
   "execution_count": null,
   "metadata": {},
   "outputs": [],
   "source": [
    "trace_data.add_embedding(\n",
    "    name= \"PCA\",\n",
    "    embedding = pca_emb,\n",
    "    category=\"PCA\",\n",
    ")\n",
    "\n",
    "for exag, emb in tsne_embs.items():\n",
    "    trace_data.add_embedding(\n",
    "        name= f\"tSNE_{exag}\",\n",
    "        embedding = emb,\n",
    "        category=\"tSNE\"\n",
    "    )"
   ]
  },
  {
   "cell_type": "code",
   "execution_count": null,
   "metadata": {},
   "outputs": [],
   "source": [
    "trace_data.precompute_HD_neighbors(maxK=200)\n",
    "trace_data.compute_neighborhood_preservation(\n",
    "    neighborhood_sizes=[200, 100, 50]\n",
    ")\n",
    "trace_data.compute_global_distance_correlation(\n",
    "    max_landmarks=1000, LD_landmark_neighbors=True\n",
    ")"
   ]
  },
  {
   "cell_type": "code",
   "execution_count": null,
   "metadata": {},
   "outputs": [],
   "source": [
    "trace_data.print_quality()\n",
    "trace_data.align_embeddings(reference_embedding=\"PCA\")\n",
    "trace_data.save_adata(filename=\"./mammoth.h5ad\")"
   ]
  }
 ],
 "metadata": {
  "kernelspec": {
   "display_name": "Python 3",
   "language": "python",
   "name": "python3"
  },
  "language_info": {
   "codemirror_mode": {
    "name": "ipython",
    "version": 3
   },
   "file_extension": ".py",
   "mimetype": "text/x-python",
   "name": "python",
   "nbconvert_exporter": "python",
   "pygments_lexer": "ipython3",
   "version": "3.11.5"
  }
 },
 "nbformat": 4,
 "nbformat_minor": 2
}
